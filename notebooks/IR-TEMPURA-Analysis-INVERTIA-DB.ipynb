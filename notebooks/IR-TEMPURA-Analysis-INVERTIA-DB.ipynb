{
 "cells": [
  {
   "cell_type": "markdown",
   "id": "f2189a01-1758-472c-b131-4057d9ab5457",
   "metadata": {},
   "source": [
    "# Case Study: InvertiaDB\n",
    "## Temperature & IR Hairpin Distribution"
   ]
  },
  {
   "cell_type": "code",
   "execution_count": 66,
   "id": "8f6683dc-9f1e-416c-b74d-2d9313e64ce3",
   "metadata": {},
   "outputs": [
    {
     "name": "stdout",
     "output_type": "stream",
     "text": [
      "The autoreload extension is already loaded. To reload it, use:\n",
      "  %reload_ext autoreload\n"
     ]
    }
   ],
   "source": [
    "%load_ext autoreload\n",
    "%autoreload 2"
   ]
  },
  {
   "cell_type": "code",
   "execution_count": 67,
   "id": "073b934b-f0d6-4e1e-b352-2b770ff50959",
   "metadata": {},
   "outputs": [],
   "source": [
    "import polars as pl\n",
    "import numpy as np\n",
    "import pandas as pd\n",
    "import matplotlib.pyplot as plt\n",
    "import seaborn as sns\n",
    "import matplotlib.cm as cm\n",
    "import matplotlib.patches as mpatches\n",
    "from collections import defaultdict\n",
    "from tqdm import tqdm"
   ]
  },
  {
   "cell_type": "code",
   "execution_count": 68,
   "id": "fd65d296-7d88-4700-8f44-3f45083f987c",
   "metadata": {},
   "outputs": [],
   "source": [
    "import os\n",
    "from pathlib import Path\n",
    "import numpy as np\n",
    "from dotenv import load_dotenv\n",
    "\n",
    "load_dotenv(\".env\")\n",
    "IRP_DB = os.getenv(\"IRP_DB\")\n",
    "EMPTY_DB = os.getenv(\"EMPTY_DB\")\n",
    "TREE_OF_LIFE = os.getenv(\"TREE_OF_LIFE\")\n",
    "ASSEMBLY_DB = os.getenv(\"ASSEMBLY_DB\")\n",
    "TEMPURA_DB = os.getenv(\"TEMPURA_DB\")\n",
    "\n",
    "# assert os.path.isdir(DATABASE), \"Invalid directory!\"\n",
    "assert os.path.isfile(IRP_DB), \"Invalid inverted repeats database.\"\n",
    "assert os.path.isfile(EMPTY_DB), \"Invalid empty assemblies db.\"\n",
    "assert os.path.isfile(ASSEMBLY_DB), \"Invalid assembly summary path.\"\n",
    "assert os.path.isfile(TREE_OF_LIFE), \"Invalid tree of life path.\"\n",
    "assert os.path.isfile(TEMPURA_DB), \"Invalid TEMPURA db.\""
   ]
  },
  {
   "cell_type": "code",
   "execution_count": 69,
   "id": "a9a8dc30-4ad0-41c7-b1c5-dcebf3f5bfb9",
   "metadata": {},
   "outputs": [
    {
     "name": "stdout",
     "output_type": "stream",
     "text": [
      "(34330450, 20)\n"
     ]
    },
    {
     "data": {
      "text/html": [
       "<div><style>\n",
       ".dataframe > thead > tr,\n",
       ".dataframe > tbody > tr {\n",
       "  text-align: right;\n",
       "  white-space: pre-wrap;\n",
       "}\n",
       "</style>\n",
       "<small>shape: (34_330_450, 20)</small><table border=\"1\" class=\"dataframe\"><thead><tr><th>seqID</th><th>start</th><th>end</th><th>sequenceOfArm</th><th>sequenceOfSpacer</th><th>sequence</th><th>armLength</th><th>spacerLength</th><th>sequenceLength</th><th>arm_a</th><th>arm_g</th><th>arm_c</th><th>arm_t</th><th>composition</th><th>#assembly_accession</th><th>superkingdom</th><th>kingdom_n</th><th>phylum</th><th>genome_size</th><th>gc_percent</th></tr><tr><td>str</td><td>i64</td><td>i64</td><td>str</td><td>str</td><td>str</td><td>i64</td><td>i64</td><td>i64</td><td>i64</td><td>i64</td><td>i64</td><td>i64</td><td>str</td><td>str</td><td>str</td><td>str</td><td>str</td><td>i64</td><td>f64</td></tr></thead><tbody><tr><td>&quot;chr1_hap1_hsa1&quot;</td><td>30582</td><td>30608</td><td>&quot;aaaatctgagag&quot;</td><td>&quot;ct&quot;</td><td>&quot;aaaatctgagagctctctcagatttt&quot;</td><td>12</td><td>2</td><td>26</td><td>6</td><td>3</td><td>1</td><td>2</td><td>&quot;6A/1C/3G/2T&quot;</td><td>&quot;PongoAbelii&quot;</td><td>&quot;Eukaryota&quot;</td><td>&quot;Animalia&quot;</td><td>&quot;Chordata&quot;</td><td>3259853530</td><td>NaN</td></tr><tr><td>&quot;chr1_hap1_hsa1&quot;</td><td>37880</td><td>37907</td><td>&quot;tagcattagg&quot;</td><td>&quot;agatata&quot;</td><td>&quot;tagcattaggagatatacctaatgcta&quot;</td><td>10</td><td>7</td><td>27</td><td>3</td><td>3</td><td>1</td><td>3</td><td>&quot;3A/1C/3G/3T&quot;</td><td>&quot;PongoAbelii&quot;</td><td>&quot;Eukaryota&quot;</td><td>&quot;Animalia&quot;</td><td>&quot;Chordata&quot;</td><td>3259853530</td><td>NaN</td></tr><tr><td>&quot;chr1_hap1_hsa1&quot;</td><td>47524</td><td>47549</td><td>&quot;tcagatcctca&quot;</td><td>&quot;ata&quot;</td><td>&quot;tcagatcctcaatatgaggatctga&quot;</td><td>11</td><td>3</td><td>25</td><td>3</td><td>1</td><td>4</td><td>3</td><td>&quot;3A/4C/1G/3T&quot;</td><td>&quot;PongoAbelii&quot;</td><td>&quot;Eukaryota&quot;</td><td>&quot;Animalia&quot;</td><td>&quot;Chordata&quot;</td><td>3259853530</td><td>NaN</td></tr><tr><td>&quot;chr1_hap1_hsa1&quot;</td><td>58762</td><td>58790</td><td>&quot;tcagggagat&quot;</td><td>&quot;cagagaat&quot;</td><td>&quot;tcagggagatcagagaatatctccctga&quot;</td><td>10</td><td>8</td><td>28</td><td>3</td><td>4</td><td>1</td><td>2</td><td>&quot;3A/1C/4G/2T&quot;</td><td>&quot;PongoAbelii&quot;</td><td>&quot;Eukaryota&quot;</td><td>&quot;Animalia&quot;</td><td>&quot;Chordata&quot;</td><td>3259853530</td><td>NaN</td></tr><tr><td>&quot;chr1_hap1_hsa1&quot;</td><td>80119</td><td>80147</td><td>&quot;tttttgccatt&quot;</td><td>&quot;gaatgt&quot;</td><td>&quot;tttttgccattgaatgtaatggcaaaaa&quot;</td><td>11</td><td>6</td><td>28</td><td>1</td><td>1</td><td>2</td><td>7</td><td>&quot;1A/2C/1G/7T&quot;</td><td>&quot;PongoAbelii&quot;</td><td>&quot;Eukaryota&quot;</td><td>&quot;Animalia&quot;</td><td>&quot;Chordata&quot;</td><td>3259853530</td><td>NaN</td></tr><tr><td>&hellip;</td><td>&hellip;</td><td>&hellip;</td><td>&hellip;</td><td>&hellip;</td><td>&hellip;</td><td>&hellip;</td><td>&hellip;</td><td>&hellip;</td><td>&hellip;</td><td>&hellip;</td><td>&hellip;</td><td>&hellip;</td><td>&hellip;</td><td>&hellip;</td><td>&hellip;</td><td>&hellip;</td><td>&hellip;</td><td>&hellip;</td><td>&hellip;</td></tr><tr><td>&quot;NZ_LR135336.1&quot;</td><td>2039</td><td>2067</td><td>&quot;taaaaataac&quot;</td><td>&quot;tttattgt&quot;</td><td>&quot;taaaaataactttattgtgttattttta&quot;</td><td>10</td><td>8</td><td>28</td><td>7</td><td>0</td><td>1</td><td>2</td><td>&quot;7A/1C/0G/2T&quot;</td><td>&quot;GCF_900639495.1&quot;</td><td>&quot;Bacteria&quot;</td><td>&quot;Eubacteria&quot;</td><td>&quot;Bacillota&quot;</td><td>3273252</td><td>0.375</td></tr><tr><td>&quot;NZ_LR135336.1&quot;</td><td>8735</td><td>8769</td><td>&quot;aaagccccagaga&quot;</td><td>&quot;ggtcggat&quot;</td><td>&quot;aaagccccagagaggtcggattctctgggg…</td><td>13</td><td>8</td><td>34</td><td>6</td><td>3</td><td>4</td><td>0</td><td>&quot;6A/4C/3G/0T&quot;</td><td>&quot;GCF_900639495.1&quot;</td><td>&quot;Bacteria&quot;</td><td>&quot;Eubacteria&quot;</td><td>&quot;Bacillota&quot;</td><td>3273252</td><td>0.375</td></tr><tr><td>&quot;NZ_LR135337.1&quot;</td><td>4311</td><td>4336</td><td>&quot;tgttactctttg&quot;</td><td>&quot;t&quot;</td><td>&quot;tgttactctttgtcaaagagtaaca&quot;</td><td>12</td><td>1</td><td>25</td><td>1</td><td>2</td><td>2</td><td>7</td><td>&quot;1A/2C/2G/7T&quot;</td><td>&quot;GCF_900639495.1&quot;</td><td>&quot;Bacteria&quot;</td><td>&quot;Eubacteria&quot;</td><td>&quot;Bacillota&quot;</td><td>3273252</td><td>0.375</td></tr><tr><td>&quot;NZ_LR135337.1&quot;</td><td>4343</td><td>4367</td><td>&quot;aattgtgaca&quot;</td><td>&quot;tggc&quot;</td><td>&quot;aattgtgacatggctgtcacaatt&quot;</td><td>10</td><td>4</td><td>24</td><td>4</td><td>2</td><td>1</td><td>3</td><td>&quot;4A/1C/2G/3T&quot;</td><td>&quot;GCF_900639495.1&quot;</td><td>&quot;Bacteria&quot;</td><td>&quot;Eubacteria&quot;</td><td>&quot;Bacillota&quot;</td><td>3273252</td><td>0.375</td></tr><tr><td>&quot;NZ_LR135338.1&quot;</td><td>791</td><td>811</td><td>&quot;gcaagttacc&quot;</td><td>&quot;.&quot;</td><td>&quot;gcaagttaccggtaacttgc&quot;</td><td>10</td><td>0</td><td>20</td><td>3</td><td>2</td><td>3</td><td>2</td><td>&quot;3A/3C/2G/2T&quot;</td><td>&quot;GCF_900639495.1&quot;</td><td>&quot;Bacteria&quot;</td><td>&quot;Eubacteria&quot;</td><td>&quot;Bacillota&quot;</td><td>3273252</td><td>0.375</td></tr></tbody></table></div>"
      ],
      "text/plain": [
       "shape: (34_330_450, 20)\n",
       "┌─────────────┬───────┬───────┬─────────────┬───┬────────────┬───────────┬────────────┬────────────┐\n",
       "│ seqID       ┆ start ┆ end   ┆ sequenceOfA ┆ … ┆ kingdom_n  ┆ phylum    ┆ genome_siz ┆ gc_percent │\n",
       "│ ---         ┆ ---   ┆ ---   ┆ rm          ┆   ┆ ---        ┆ ---       ┆ e          ┆ ---        │\n",
       "│ str         ┆ i64   ┆ i64   ┆ ---         ┆   ┆ str        ┆ str       ┆ ---        ┆ f64        │\n",
       "│             ┆       ┆       ┆ str         ┆   ┆            ┆           ┆ i64        ┆            │\n",
       "╞═════════════╪═══════╪═══════╪═════════════╪═══╪════════════╪═══════════╪════════════╪════════════╡\n",
       "│ chr1_hap1_h ┆ 30582 ┆ 30608 ┆ aaaatctgaga ┆ … ┆ Animalia   ┆ Chordata  ┆ 3259853530 ┆ NaN        │\n",
       "│ sa1         ┆       ┆       ┆ g           ┆   ┆            ┆           ┆            ┆            │\n",
       "│ chr1_hap1_h ┆ 37880 ┆ 37907 ┆ tagcattagg  ┆ … ┆ Animalia   ┆ Chordata  ┆ 3259853530 ┆ NaN        │\n",
       "│ sa1         ┆       ┆       ┆             ┆   ┆            ┆           ┆            ┆            │\n",
       "│ chr1_hap1_h ┆ 47524 ┆ 47549 ┆ tcagatcctca ┆ … ┆ Animalia   ┆ Chordata  ┆ 3259853530 ┆ NaN        │\n",
       "│ sa1         ┆       ┆       ┆             ┆   ┆            ┆           ┆            ┆            │\n",
       "│ chr1_hap1_h ┆ 58762 ┆ 58790 ┆ tcagggagat  ┆ … ┆ Animalia   ┆ Chordata  ┆ 3259853530 ┆ NaN        │\n",
       "│ sa1         ┆       ┆       ┆             ┆   ┆            ┆           ┆            ┆            │\n",
       "│ chr1_hap1_h ┆ 80119 ┆ 80147 ┆ tttttgccatt ┆ … ┆ Animalia   ┆ Chordata  ┆ 3259853530 ┆ NaN        │\n",
       "│ sa1         ┆       ┆       ┆             ┆   ┆            ┆           ┆            ┆            │\n",
       "│ …           ┆ …     ┆ …     ┆ …           ┆ … ┆ …          ┆ …         ┆ …          ┆ …          │\n",
       "│ NZ_LR135336 ┆ 2039  ┆ 2067  ┆ taaaaataac  ┆ … ┆ Eubacteria ┆ Bacillota ┆ 3273252    ┆ 0.375      │\n",
       "│ .1          ┆       ┆       ┆             ┆   ┆            ┆           ┆            ┆            │\n",
       "│ NZ_LR135336 ┆ 8735  ┆ 8769  ┆ aaagccccaga ┆ … ┆ Eubacteria ┆ Bacillota ┆ 3273252    ┆ 0.375      │\n",
       "│ .1          ┆       ┆       ┆ ga          ┆   ┆            ┆           ┆            ┆            │\n",
       "│ NZ_LR135337 ┆ 4311  ┆ 4336  ┆ tgttactcttt ┆ … ┆ Eubacteria ┆ Bacillota ┆ 3273252    ┆ 0.375      │\n",
       "│ .1          ┆       ┆       ┆ g           ┆   ┆            ┆           ┆            ┆            │\n",
       "│ NZ_LR135337 ┆ 4343  ┆ 4367  ┆ aattgtgaca  ┆ … ┆ Eubacteria ┆ Bacillota ┆ 3273252    ┆ 0.375      │\n",
       "│ .1          ┆       ┆       ┆             ┆   ┆            ┆           ┆            ┆            │\n",
       "│ NZ_LR135338 ┆ 791   ┆ 811   ┆ gcaagttacc  ┆ … ┆ Eubacteria ┆ Bacillota ┆ 3273252    ┆ 0.375      │\n",
       "│ .1          ┆       ┆       ┆             ┆   ┆            ┆           ┆            ┆            │\n",
       "└─────────────┴───────┴───────┴─────────────┴───┴────────────┴───────────┴────────────┴────────────┘"
      ]
     },
     "execution_count": 69,
     "metadata": {},
     "output_type": "execute_result"
    }
   ],
   "source": [
    "irp_df = pl.read_parquet(IRP_DB)\n",
    "print(irp_df.shape)\n",
    "irp_df"
   ]
  },
  {
   "cell_type": "code",
   "execution_count": 70,
   "id": "5fb99e23-15cf-459c-8320-0882a038f66b",
   "metadata": {},
   "outputs": [
    {
     "data": {
      "text/plain": [
       "(8, 10)"
      ]
     },
     "execution_count": 70,
     "metadata": {},
     "output_type": "execute_result"
    }
   ],
   "source": [
    "irp_df[\"spacerLength\"].max(), irp_df[\"armLength\"].min()"
   ]
  },
  {
   "cell_type": "code",
   "execution_count": 71,
   "id": "ad2c4e96-5d9a-490b-9c99-bef96863721d",
   "metadata": {},
   "outputs": [
    {
     "data": {
      "text/html": [
       "<div><style>\n",
       ".dataframe > thead > tr,\n",
       ".dataframe > tbody > tr {\n",
       "  text-align: right;\n",
       "  white-space: pre-wrap;\n",
       "}\n",
       "</style>\n",
       "<small>shape: (118_116, 17)</small><table border=\"1\" class=\"dataframe\"><thead><tr><th>#assembly_accession</th><th>IR</th><th>accession_id</th><th>organism_name</th><th>group</th><th>genome_size</th><th>genus</th><th>gc_percent</th><th>total_gene_count</th><th>protein_coding_gene_count</th><th>non_coding_gene_count</th><th>family</th><th>order</th><th>class</th><th>phylum</th><th>kingdom</th><th>superkingdom</th></tr><tr><td>str</td><td>i64</td><td>str</td><td>str</td><td>str</td><td>i64</td><td>str</td><td>f64</td><td>str</td><td>str</td><td>str</td><td>str</td><td>str</td><td>str</td><td>str</td><td>str</td><td>str</td></tr></thead><tbody><tr><td>&quot;GCF_000002515.2&quot;</td><td>0</td><td>&quot;GCF_000002515.2&quot;</td><td>&quot;Kluyveromyces lactis&quot;</td><td>&quot;fungi&quot;</td><td>10689156</td><td>&quot;Kluyveromyces&quot;</td><td>0.39</td><td>&quot;5335&quot;</td><td>&quot;5084&quot;</td><td>&quot;251&quot;</td><td>&quot;Saccharomycetaceae&quot;</td><td>&quot;Saccharomycetales&quot;</td><td>&quot;Saccharomycetes&quot;</td><td>&quot;Ascomycota&quot;</td><td>&quot;Fungi&quot;</td><td>&quot;Eukaryota&quot;</td></tr><tr><td>&quot;GCF_000002725.2&quot;</td><td>0</td><td>&quot;GCF_000002725.2&quot;</td><td>&quot;Leishmania major strain Friedl…</td><td>&quot;protozoa&quot;</td><td>32855089</td><td>&quot;Leishmania&quot;</td><td>0.595</td><td>&quot;9388&quot;</td><td>&quot;8316&quot;</td><td>&quot;976&quot;</td><td>&quot;Trypanosomatidae&quot;</td><td>&quot;Trypanosomatida&quot;</td><td>&quot;Kinetoplastea&quot;</td><td>&quot;Euglenozoa&quot;</td><td>&quot;Protista&quot;</td><td>&quot;Eukaryota&quot;</td></tr><tr><td>&quot;GCF_000002765.6&quot;</td><td>0</td><td>&quot;GCF_000002765.6&quot;</td><td>&quot;Plasmodium falciparum 3D7&quot;</td><td>&quot;protozoa&quot;</td><td>23292622</td><td>&quot;Plasmodium&quot;</td><td>0.195</td><td>&quot;5615&quot;</td><td>&quot;5282&quot;</td><td>&quot;175&quot;</td><td>&quot;Plasmodiidae&quot;</td><td>&quot;Haemosporida&quot;</td><td>&quot;Aconoidasida&quot;</td><td>&quot;Apicomplexa&quot;</td><td>&quot;Protista&quot;</td><td>&quot;Eukaryota&quot;</td></tr><tr><td>&quot;GCF_000002985.6&quot;</td><td>0</td><td>&quot;GCF_000002985.6&quot;</td><td>&quot;Caenorhabditis elegans&quot;</td><td>&quot;invertebrate&quot;</td><td>100272607</td><td>&quot;Caenorhabditis&quot;</td><td>0.355</td><td>&quot;46927&quot;</td><td>&quot;19984&quot;</td><td>&quot;24811&quot;</td><td>&quot;Rhabditidae&quot;</td><td>&quot;Rhabditida&quot;</td><td>&quot;Chromadorea&quot;</td><td>&quot;Nematoda&quot;</td><td>&quot;Metazoa&quot;</td><td>&quot;Eukaryota&quot;</td></tr><tr><td>&quot;GCF_000005825.2&quot;</td><td>0</td><td>&quot;GCF_000005825.2&quot;</td><td>&quot;Alkalihalophilus pseudofirmus …</td><td>&quot;bacteria&quot;</td><td>4249248</td><td>&quot;Alkalihalophilus&quot;</td><td>0.4</td><td>&quot;4314&quot;</td><td>&quot;4158&quot;</td><td>&quot;105&quot;</td><td>&quot;Bacillaceae&quot;</td><td>&quot;Bacillales&quot;</td><td>&quot;Bacilli&quot;</td><td>&quot;Bacillota&quot;</td><td>&quot;Bacillati&quot;</td><td>&quot;Bacteria&quot;</td></tr><tr><td>&hellip;</td><td>&hellip;</td><td>&hellip;</td><td>&hellip;</td><td>&hellip;</td><td>&hellip;</td><td>&hellip;</td><td>&hellip;</td><td>&hellip;</td><td>&hellip;</td><td>&hellip;</td><td>&hellip;</td><td>&hellip;</td><td>&hellip;</td><td>&hellip;</td><td>&hellip;</td><td>&hellip;</td></tr><tr><td>&quot;GCF_000219725.1&quot;</td><td>0</td><td>&quot;GCF_000219725.1&quot;</td><td>&quot;Gracilinema caldarium DSM 7334&quot;</td><td>&quot;bacteria&quot;</td><td>3239340</td><td>&quot;Gracilinema&quot;</td><td>0.455</td><td>&quot;2934&quot;</td><td>&quot;2851&quot;</td><td>&quot;60&quot;</td><td>&quot;Breznakiellaceae&quot;</td><td>&quot;Spirochaetales&quot;</td><td>&quot;Spirochaetia&quot;</td><td>&quot;Spirochaetota&quot;</td><td>&quot;Pseudomonadati&quot;</td><td>&quot;Bacteria&quot;</td></tr><tr><td>&quot;GCF_000847005.1&quot;</td><td>0</td><td>&quot;GCF_000847005.1&quot;</td><td>&quot;Gallid alphaherpesvirus 1&quot;</td><td>&quot;viral&quot;</td><td>148687</td><td>&quot;Iltovirus&quot;</td><td>0.48</td><td>&quot;79&quot;</td><td>&quot;79&quot;</td><td>&quot;0&quot;</td><td>&quot;Orthoherpesviridae&quot;</td><td>&quot;Herpesvirales&quot;</td><td>&quot;Herviviricetes&quot;</td><td>&quot;Peploviricota&quot;</td><td>&quot;Heunggongvirae&quot;</td><td>&quot;Viruses&quot;</td></tr><tr><td>&quot;GCF_000847605.1&quot;</td><td>0</td><td>&quot;GCF_000847605.1&quot;</td><td>&quot;Equine infectious anemia virus&quot;</td><td>&quot;viral&quot;</td><td>8359</td><td>&quot;Lentivirus&quot;</td><td>0.385</td><td>&quot;4&quot;</td><td>&quot;4&quot;</td><td>&quot;0&quot;</td><td>&quot;Retroviridae&quot;</td><td>&quot;Ortervirales&quot;</td><td>&quot;Revtraviricetes&quot;</td><td>&quot;Artverviricota&quot;</td><td>&quot;Pararnavirae&quot;</td><td>&quot;Viruses&quot;</td></tr><tr><td>&quot;GCF_025775325.1&quot;</td><td>0</td><td>&quot;GCF_025775325.1&quot;</td><td>&quot;Streptococcus phage 315.6&quot;</td><td>&quot;viral&quot;</td><td>40014</td><td>null</td><td>0.395</td><td>&quot;51&quot;</td><td>&quot;51&quot;</td><td>&quot;0&quot;</td><td>null</td><td>null</td><td>&quot;Caudoviricetes&quot;</td><td>&quot;Uroviricota&quot;</td><td>&quot;Heunggongvirae&quot;</td><td>&quot;Viruses&quot;</td></tr><tr><td>&quot;GCF_025775335.1&quot;</td><td>0</td><td>&quot;GCF_025775335.1&quot;</td><td>&quot;Staphylococcus phage phiN315&quot;</td><td>&quot;viral&quot;</td><td>44082</td><td>null</td><td>0.33</td><td>&quot;65&quot;</td><td>&quot;65&quot;</td><td>&quot;0&quot;</td><td>null</td><td>null</td><td>&quot;Caudoviricetes&quot;</td><td>&quot;Uroviricota&quot;</td><td>&quot;Heunggongvirae&quot;</td><td>&quot;Viruses&quot;</td></tr></tbody></table></div>"
      ],
      "text/plain": [
       "shape: (118_116, 17)\n",
       "┌────────────┬─────┬────────────┬────────────┬───┬────────────┬────────────┬───────────┬───────────┐\n",
       "│ #assembly_ ┆ IR  ┆ accession_ ┆ organism_n ┆ … ┆ class      ┆ phylum     ┆ kingdom   ┆ superking │\n",
       "│ accession  ┆ --- ┆ id         ┆ ame        ┆   ┆ ---        ┆ ---        ┆ ---       ┆ dom       │\n",
       "│ ---        ┆ i64 ┆ ---        ┆ ---        ┆   ┆ str        ┆ str        ┆ str       ┆ ---       │\n",
       "│ str        ┆     ┆ str        ┆ str        ┆   ┆            ┆            ┆           ┆ str       │\n",
       "╞════════════╪═════╪════════════╪════════════╪═══╪════════════╪════════════╪═══════════╪═══════════╡\n",
       "│ GCF_000002 ┆ 0   ┆ GCF_000002 ┆ Kluyveromy ┆ … ┆ Saccharomy ┆ Ascomycota ┆ Fungi     ┆ Eukaryota │\n",
       "│ 515.2      ┆     ┆ 515.2      ┆ ces lactis ┆   ┆ cetes      ┆            ┆           ┆           │\n",
       "│ GCF_000002 ┆ 0   ┆ GCF_000002 ┆ Leishmania ┆ … ┆ Kinetoplas ┆ Euglenozoa ┆ Protista  ┆ Eukaryota │\n",
       "│ 725.2      ┆     ┆ 725.2      ┆ major      ┆   ┆ tea        ┆            ┆           ┆           │\n",
       "│            ┆     ┆            ┆ strain     ┆   ┆            ┆            ┆           ┆           │\n",
       "│            ┆     ┆            ┆ Friedl…    ┆   ┆            ┆            ┆           ┆           │\n",
       "│ GCF_000002 ┆ 0   ┆ GCF_000002 ┆ Plasmodium ┆ … ┆ Aconoidasi ┆ Apicomplex ┆ Protista  ┆ Eukaryota │\n",
       "│ 765.6      ┆     ┆ 765.6      ┆ falciparum ┆   ┆ da         ┆ a          ┆           ┆           │\n",
       "│            ┆     ┆            ┆ 3D7        ┆   ┆            ┆            ┆           ┆           │\n",
       "│ GCF_000002 ┆ 0   ┆ GCF_000002 ┆ Caenorhabd ┆ … ┆ Chromadore ┆ Nematoda   ┆ Metazoa   ┆ Eukaryota │\n",
       "│ 985.6      ┆     ┆ 985.6      ┆ itis       ┆   ┆ a          ┆            ┆           ┆           │\n",
       "│            ┆     ┆            ┆ elegans    ┆   ┆            ┆            ┆           ┆           │\n",
       "│ GCF_000005 ┆ 0   ┆ GCF_000005 ┆ Alkalihalo ┆ … ┆ Bacilli    ┆ Bacillota  ┆ Bacillati ┆ Bacteria  │\n",
       "│ 825.2      ┆     ┆ 825.2      ┆ philus pse ┆   ┆            ┆            ┆           ┆           │\n",
       "│            ┆     ┆            ┆ udofirmus  ┆   ┆            ┆            ┆           ┆           │\n",
       "│            ┆     ┆            ┆ …          ┆   ┆            ┆            ┆           ┆           │\n",
       "│ …          ┆ …   ┆ …          ┆ …          ┆ … ┆ …          ┆ …          ┆ …         ┆ …         │\n",
       "│ GCF_000219 ┆ 0   ┆ GCF_000219 ┆ Gracilinem ┆ … ┆ Spirochaet ┆ Spirochaet ┆ Pseudomon ┆ Bacteria  │\n",
       "│ 725.1      ┆     ┆ 725.1      ┆ a          ┆   ┆ ia         ┆ ota        ┆ adati     ┆           │\n",
       "│            ┆     ┆            ┆ caldarium  ┆   ┆            ┆            ┆           ┆           │\n",
       "│            ┆     ┆            ┆ DSM 7334   ┆   ┆            ┆            ┆           ┆           │\n",
       "│ GCF_000847 ┆ 0   ┆ GCF_000847 ┆ Gallid alp ┆ … ┆ Herviviric ┆ Peploviric ┆ Heunggong ┆ Viruses   │\n",
       "│ 005.1      ┆     ┆ 005.1      ┆ haherpesvi ┆   ┆ etes       ┆ ota        ┆ virae     ┆           │\n",
       "│            ┆     ┆            ┆ rus 1      ┆   ┆            ┆            ┆           ┆           │\n",
       "│ GCF_000847 ┆ 0   ┆ GCF_000847 ┆ Equine     ┆ … ┆ Revtraviri ┆ Artverviri ┆ Pararnavi ┆ Viruses   │\n",
       "│ 605.1      ┆     ┆ 605.1      ┆ infectious ┆   ┆ cetes      ┆ cota       ┆ rae       ┆           │\n",
       "│            ┆     ┆            ┆ anemia     ┆   ┆            ┆            ┆           ┆           │\n",
       "│            ┆     ┆            ┆ virus      ┆   ┆            ┆            ┆           ┆           │\n",
       "│ GCF_025775 ┆ 0   ┆ GCF_025775 ┆ Streptococ ┆ … ┆ Caudoviric ┆ Uroviricot ┆ Heunggong ┆ Viruses   │\n",
       "│ 325.1      ┆     ┆ 325.1      ┆ cus phage  ┆   ┆ etes       ┆ a          ┆ virae     ┆           │\n",
       "│            ┆     ┆            ┆ 315.6      ┆   ┆            ┆            ┆           ┆           │\n",
       "│ GCF_025775 ┆ 0   ┆ GCF_025775 ┆ Staphyloco ┆ … ┆ Caudoviric ┆ Uroviricot ┆ Heunggong ┆ Viruses   │\n",
       "│ 335.1      ┆     ┆ 335.1      ┆ ccus phage ┆   ┆ etes       ┆ a          ┆ virae     ┆           │\n",
       "│            ┆     ┆            ┆ phiN315    ┆   ┆            ┆            ┆           ┆           │\n",
       "└────────────┴─────┴────────────┴────────────┴───┴────────────┴────────────┴───────────┴───────────┘"
      ]
     },
     "execution_count": 71,
     "metadata": {},
     "output_type": "execute_result"
    }
   ],
   "source": [
    "df_empty = pl.read_csv(EMPTY_DB,\n",
    "                separator=\"\\t\",\n",
    "                schema_overrides={\n",
    "                                 \"total_gene_count\": pl.Utf8,\n",
    "                                 \"protein_coding_gene_count\": pl.Utf8,\n",
    "                                 \"non_coding_gene_count\": pl.Utf8\n",
    "                                }\n",
    "                )\n",
    "df_empty"
   ]
  },
  {
   "cell_type": "code",
   "execution_count": 72,
   "id": "c8d19bf8-54fb-43e7-ba37-90fe28391937",
   "metadata": {},
   "outputs": [
    {
     "data": {
      "text/html": [
       "<div><style>\n",
       ".dataframe > thead > tr,\n",
       ".dataframe > tbody > tr {\n",
       "  text-align: right;\n",
       "  white-space: pre-wrap;\n",
       "}\n",
       "</style>\n",
       "<small>shape: (2, 2)</small><table border=\"1\" class=\"dataframe\"><thead><tr><th>group</th><th>count</th></tr><tr><td>str</td><td>u32</td></tr></thead><tbody><tr><td>&quot;bacteria&quot;</td><td>1</td></tr><tr><td>&quot;viral&quot;</td><td>32874</td></tr></tbody></table></div>"
      ],
      "text/plain": [
       "shape: (2, 2)\n",
       "┌──────────┬───────┐\n",
       "│ group    ┆ count │\n",
       "│ ---      ┆ ---   │\n",
       "│ str      ┆ u32   │\n",
       "╞══════════╪═══════╡\n",
       "│ bacteria ┆ 1     │\n",
       "│ viral    ┆ 32874 │\n",
       "└──────────┴───────┘"
      ]
     },
     "execution_count": 72,
     "metadata": {},
     "output_type": "execute_result"
    }
   ],
   "source": [
    "empty_accessions = df_empty.filter(pl.col(\"IR\") == 1)['group'].value_counts()\n",
    "empty_accessions"
   ]
  },
  {
   "cell_type": "code",
   "execution_count": 73,
   "id": "a566b860-7e1a-4811-b1bb-48ab56b793ae",
   "metadata": {},
   "outputs": [
    {
     "data": {
      "text/plain": [
       "32861"
      ]
     },
     "execution_count": 73,
     "metadata": {},
     "output_type": "execute_result"
    }
   ],
   "source": [
    "empty_accessions = set(df_empty.filter(pl.col(\"IR\") == 1)['#assembly_accession'])\n",
    "len(empty_accessions)"
   ]
  },
  {
   "cell_type": "code",
   "execution_count": 74,
   "id": "97fd4583-dfec-4c2a-bf30-4195928d8ecb",
   "metadata": {},
   "outputs": [
    {
     "data": {
      "text/plain": [
       "85240"
      ]
     },
     "execution_count": 74,
     "metadata": {},
     "output_type": "execute_result"
    }
   ],
   "source": [
    "non_empty_accessions = set(irp_df[\"#assembly_accession\"])\n",
    "len(non_empty_accessions)"
   ]
  },
  {
   "cell_type": "code",
   "execution_count": 75,
   "id": "6c35c72c-6c08-44ff-8cde-03c04d1f5e21",
   "metadata": {},
   "outputs": [
    {
     "data": {
      "text/plain": [
       "118101"
      ]
     },
     "execution_count": 75,
     "metadata": {},
     "output_type": "execute_result"
    }
   ],
   "source": [
    "DB_accessions = empty_accessions | non_empty_accessions\n",
    "total_DB_accessions = len(DB_accessions)\n",
    "total_DB_accessions"
   ]
  },
  {
   "cell_type": "code",
   "execution_count": 76,
   "id": "593c205e",
   "metadata": {},
   "outputs": [],
   "source": [
    "dest = Path(\"tempura_IR_analysis\")\n",
    "dest.mkdir(exist_ok=True)"
   ]
  },
  {
   "cell_type": "code",
   "execution_count": 77,
   "id": "8fe8db73-9aa1-411c-a2c1-8a9ef43f7272",
   "metadata": {},
   "outputs": [
    {
     "data": {
      "text/html": [
       "<div><style>\n",
       ".dataframe > thead > tr,\n",
       ".dataframe > tbody > tr {\n",
       "  text-align: right;\n",
       "  white-space: pre-wrap;\n",
       "}\n",
       "</style>\n",
       "<small>shape: (5, 38)</small><table border=\"1\" class=\"dataframe\"><thead><tr><th>#assembly_accession</th><th>column_2</th><th>column_3</th><th>column_4</th><th>column_5</th><th>taxid</th><th>species_taxid</th><th>column_8</th><th>column_9</th><th>column_10</th><th>column_11</th><th>column_12</th><th>column_13</th><th>column_14</th><th>column_15</th><th>column_16</th><th>column_17</th><th>column_18</th><th>column_19</th><th>column_20</th><th>column_21</th><th>column_22</th><th>column_23</th><th>column_24</th><th>group</th><th>column_26</th><th>genome_size</th><th>gc_percent</th><th>column_29</th><th>column_30</th><th>column_31</th><th>column_32</th><th>column_33</th><th>column_34</th><th>column_35</th><th>column_36</th><th>column_37</th><th>column_38</th></tr><tr><td>str</td><td>str</td><td>str</td><td>str</td><td>str</td><td>i64</td><td>i64</td><td>str</td><td>str</td><td>str</td><td>str</td><td>str</td><td>str</td><td>str</td><td>str</td><td>str</td><td>str</td><td>str</td><td>str</td><td>str</td><td>str</td><td>str</td><td>str</td><td>str</td><td>str</td><td>i64</td><td>i64</td><td>f64</td><td>i64</td><td>i64</td><td>i64</td><td>str</td><td>str</td><td>str</td><td>i64</td><td>i64</td><td>i64</td><td>str</td></tr></thead><tbody><tr><td>&quot;GCF_000762265.1&quot;</td><td>&quot;PRJNA224116&quot;</td><td>&quot;SAMN03085433&quot;</td><td>null</td><td>null</td><td>2162</td><td>2162</td><td>&quot;Methanobacterium formicicum&quot;</td><td>&quot;strain=BRM9&quot;</td><td>null</td><td>&quot;latest&quot;</td><td>&quot;Complete Genome&quot;</td><td>&quot;Major&quot;</td><td>&quot;Full&quot;</td><td>&quot;2014/10/02&quot;</td><td>&quot;ASM76226v1&quot;</td><td>&quot;PGgRc&quot;</td><td>&quot;GCA_000762265.1&quot;</td><td>&quot;identical&quot;</td><td>&quot;https://ftp.ncbi.nlm.nih.gov/g…</td><td>null</td><td>null</td><td>null</td><td>&quot;haploid&quot;</td><td>&quot;archaea&quot;</td><td>2449987</td><td>2449987</td><td>41.5</td><td>1</td><td>1</td><td>1</td><td>&quot;NCBI RefSeq&quot;</td><td>&quot;NCBI Prokaryotic Genome Annota…</td><td>&quot;2024/02/11&quot;</td><td>2445</td><td>2386</td><td>55</td><td>null</td></tr><tr><td>&quot;GCF_001458655.1&quot;</td><td>&quot;PRJNA224116&quot;</td><td>&quot;SAMEA2779801&quot;</td><td>null</td><td>&quot;representative genome&quot;</td><td>2162</td><td>2162</td><td>&quot;Methanobacterium formicicum&quot;</td><td>null</td><td>&quot;Mb9&quot;</td><td>&quot;latest&quot;</td><td>&quot;Complete Genome&quot;</td><td>&quot;Major&quot;</td><td>&quot;Full&quot;</td><td>&quot;2015/11/16&quot;</td><td>&quot;Mb9&quot;</td><td>&quot;CEBITEC&quot;</td><td>&quot;GCA_001458655.1&quot;</td><td>&quot;identical&quot;</td><td>&quot;https://ftp.ncbi.nlm.nih.gov/g…</td><td>null</td><td>null</td><td>null</td><td>&quot;haploid&quot;</td><td>&quot;archaea&quot;</td><td>2494510</td><td>2494510</td><td>41.0</td><td>1</td><td>1</td><td>1</td><td>&quot;NCBI RefSeq&quot;</td><td>&quot;NCBI Prokaryotic Genome Annota…</td><td>&quot;2024/02/12&quot;</td><td>2462</td><td>2404</td><td>55</td><td>null</td></tr><tr><td>&quot;GCF_002813085.1&quot;</td><td>&quot;PRJNA224116&quot;</td><td>&quot;SAMN05935551&quot;</td><td>null</td><td>null</td><td>2173</td><td>2173</td><td>&quot;Methanobrevibacter smithii&quot;</td><td>&quot;strain=KB11&quot;</td><td>null</td><td>&quot;latest&quot;</td><td>&quot;Complete Genome&quot;</td><td>&quot;Major&quot;</td><td>&quot;Full&quot;</td><td>&quot;2017/12/06&quot;</td><td>&quot;ASM281308v1&quot;</td><td>&quot;KRIBB&quot;</td><td>&quot;GCA_002813085.1&quot;</td><td>&quot;identical&quot;</td><td>&quot;https://ftp.ncbi.nlm.nih.gov/g…</td><td>null</td><td>null</td><td>null</td><td>&quot;haploid&quot;</td><td>&quot;archaea&quot;</td><td>1805545</td><td>1805545</td><td>31.0</td><td>1</td><td>1</td><td>1</td><td>&quot;NCBI RefSeq&quot;</td><td>&quot;NCBI Prokaryotic Genome Annota…</td><td>&quot;2024/02/19&quot;</td><td>1782</td><td>1715</td><td>43</td><td>null</td></tr><tr><td>&quot;GCF_022846155.1&quot;</td><td>&quot;PRJNA224116&quot;</td><td>&quot;SAMD00389909&quot;</td><td>null</td><td>null</td><td>2173</td><td>2173</td><td>&quot;Methanobrevibacter smithii&quot;</td><td>&quot;strain=CE91-St67&quot;</td><td>null</td><td>&quot;latest&quot;</td><td>&quot;Complete Genome&quot;</td><td>&quot;Major&quot;</td><td>&quot;Full&quot;</td><td>&quot;2022/02/04&quot;</td><td>&quot;ASM2284615v1&quot;</td><td>&quot;Laboratory for Microbiome Scie…</td><td>&quot;GCA_022846155.1&quot;</td><td>&quot;identical&quot;</td><td>&quot;https://ftp.ncbi.nlm.nih.gov/g…</td><td>null</td><td>null</td><td>null</td><td>&quot;haploid&quot;</td><td>&quot;archaea&quot;</td><td>1791153</td><td>1791153</td><td>31.0</td><td>1</td><td>1</td><td>1</td><td>&quot;NCBI RefSeq&quot;</td><td>&quot;NCBI Prokaryotic Genome Annota…</td><td>&quot;2023/04/21&quot;</td><td>1738</td><td>1680</td><td>44</td><td>null</td></tr><tr><td>&quot;GCF_022846175.1&quot;</td><td>&quot;PRJNA224116&quot;</td><td>&quot;SAMD00389910&quot;</td><td>null</td><td>null</td><td>2173</td><td>2173</td><td>&quot;Methanobrevibacter smithii&quot;</td><td>&quot;strain=CE91-St68&quot;</td><td>null</td><td>&quot;latest&quot;</td><td>&quot;Complete Genome&quot;</td><td>&quot;Major&quot;</td><td>&quot;Full&quot;</td><td>&quot;2022/02/04&quot;</td><td>&quot;ASM2284617v1&quot;</td><td>&quot;Laboratory for Microbiome Scie…</td><td>&quot;GCA_022846175.1&quot;</td><td>&quot;identical&quot;</td><td>&quot;https://ftp.ncbi.nlm.nih.gov/g…</td><td>null</td><td>null</td><td>null</td><td>&quot;haploid&quot;</td><td>&quot;archaea&quot;</td><td>1791155</td><td>1791155</td><td>31.0</td><td>1</td><td>1</td><td>1</td><td>&quot;NCBI RefSeq&quot;</td><td>&quot;NCBI Prokaryotic Genome Annota…</td><td>&quot;2023/04/21&quot;</td><td>1739</td><td>1681</td><td>44</td><td>null</td></tr></tbody></table></div>"
      ],
      "text/plain": [
       "shape: (5, 38)\n",
       "┌───────────┬───────────┬───────────┬──────────┬───┬───────────┬───────────┬───────────┬───────────┐\n",
       "│ #assembly ┆ column_2  ┆ column_3  ┆ column_4 ┆ … ┆ column_35 ┆ column_36 ┆ column_37 ┆ column_38 │\n",
       "│ _accessio ┆ ---       ┆ ---       ┆ ---      ┆   ┆ ---       ┆ ---       ┆ ---       ┆ ---       │\n",
       "│ n         ┆ str       ┆ str       ┆ str      ┆   ┆ i64       ┆ i64       ┆ i64       ┆ str       │\n",
       "│ ---       ┆           ┆           ┆          ┆   ┆           ┆           ┆           ┆           │\n",
       "│ str       ┆           ┆           ┆          ┆   ┆           ┆           ┆           ┆           │\n",
       "╞═══════════╪═══════════╪═══════════╪══════════╪═══╪═══════════╪═══════════╪═══════════╪═══════════╡\n",
       "│ GCF_00076 ┆ PRJNA2241 ┆ SAMN03085 ┆ null     ┆ … ┆ 2445      ┆ 2386      ┆ 55        ┆ null      │\n",
       "│ 2265.1    ┆ 16        ┆ 433       ┆          ┆   ┆           ┆           ┆           ┆           │\n",
       "│ GCF_00145 ┆ PRJNA2241 ┆ SAMEA2779 ┆ null     ┆ … ┆ 2462      ┆ 2404      ┆ 55        ┆ null      │\n",
       "│ 8655.1    ┆ 16        ┆ 801       ┆          ┆   ┆           ┆           ┆           ┆           │\n",
       "│ GCF_00281 ┆ PRJNA2241 ┆ SAMN05935 ┆ null     ┆ … ┆ 1782      ┆ 1715      ┆ 43        ┆ null      │\n",
       "│ 3085.1    ┆ 16        ┆ 551       ┆          ┆   ┆           ┆           ┆           ┆           │\n",
       "│ GCF_02284 ┆ PRJNA2241 ┆ SAMD00389 ┆ null     ┆ … ┆ 1738      ┆ 1680      ┆ 44        ┆ null      │\n",
       "│ 6155.1    ┆ 16        ┆ 909       ┆          ┆   ┆           ┆           ┆           ┆           │\n",
       "│ GCF_02284 ┆ PRJNA2241 ┆ SAMD00389 ┆ null     ┆ … ┆ 1739      ┆ 1681      ┆ 44        ┆ null      │\n",
       "│ 6175.1    ┆ 16        ┆ 910       ┆          ┆   ┆           ┆           ┆           ┆           │\n",
       "└───────────┴───────────┴───────────┴──────────┴───┴───────────┴───────────┴───────────┴───────────┘"
      ]
     },
     "execution_count": 77,
     "metadata": {},
     "output_type": "execute_result"
    }
   ],
   "source": [
    "tree_of_life = pl.read_csv(TREE_OF_LIFE, separator=\",\")\n",
    "\n",
    "summary = pl.read_csv(ASSEMBLY_DB, \n",
    "                        null_values=['na', 'NA'],\n",
    "                        has_header=False, \n",
    "                    separator=\"\\t\")\\\n",
    "                        .rename({\"column_1\": \"#assembly_accession\",\n",
    "                               \"column_27\": \"genome_size\",\n",
    "                               \"column_28\": \"gc_percent\",\n",
    "                                \"column_25\": \"group\",\n",
    "                               \"column_6\": \"taxid\",\n",
    "                               \"column_7\": \"species_taxid\",\n",
    "                        })\n",
    "summary.head()"
   ]
  },
  {
   "cell_type": "markdown",
   "id": "3d7fa114-582d-4f8c-864c-40cf74023b90",
   "metadata": {},
   "source": [
    "# Load Tempura DB"
   ]
  },
  {
   "cell_type": "code",
   "execution_count": 78,
   "id": "f9d0fa97-6019-4f4b-af06-b70262695c17",
   "metadata": {},
   "outputs": [
    {
     "data": {
      "text/html": [
       "<div><style>\n",
       ".dataframe > thead > tr,\n",
       ".dataframe > tbody > tr {\n",
       "  text-align: right;\n",
       "  white-space: pre-wrap;\n",
       "}\n",
       "</style>\n",
       "<small>shape: (8_639, 20)</small><table border=\"1\" class=\"dataframe\"><thead><tr><th>genus_and_species</th><th>taxonomy_id</th><th>strain</th><th>superkingdom</th><th>phylum</th><th>class</th><th>order</th><th>family</th><th>genus</th><th>assembly_or_accession</th><th>Genome_GC</th><th>Genome_size</th><th>16S_accssion</th><th>16S_GC</th><th>Tmin</th><th>Topt_ave</th><th>Topt_low</th><th>Topt_high</th><th>Tmax</th><th>Tmax_Tmin</th></tr><tr><td>str</td><td>i64</td><td>str</td><td>str</td><td>str</td><td>str</td><td>str</td><td>str</td><td>str</td><td>str</td><td>f64</td><td>f64</td><td>str</td><td>f64</td><td>f64</td><td>f64</td><td>f64</td><td>f64</td><td>f64</td><td>f64</td></tr></thead><tbody><tr><td>&quot;Methanopyrus kandleri&quot;</td><td>2320</td><td>&quot;116&quot;</td><td>&quot;Archaea&quot;</td><td>&quot;Euryarchaeota&quot;</td><td>&quot;Methanopyri&quot;</td><td>&quot;Methanopyrales&quot;</td><td>&quot;Methanopyraceae&quot;</td><td>&quot;Methanopyrus&quot;</td><td>null</td><td>null</td><td>null</td><td>&quot;AB301476&quot;</td><td>67.7</td><td>85.0</td><td>100.0</td><td>null</td><td>null</td><td>122.0</td><td>37.0</td></tr><tr><td>&quot;&quot;Geogemma barossii&quot;&quot;</td><td>1927912</td><td>&quot;121&quot;</td><td>&quot;Archaea&quot;</td><td>&quot;Crenarchaeota&quot;</td><td>&quot;Thermoprotei&quot;</td><td>&quot;Desulfurococcales&quot;</td><td>&quot;Pyrodictiaceae&quot;</td><td>&quot;Geogemma&quot;</td><td>null</td><td>null</td><td>null</td><td>null</td><td>null</td><td>85.0</td><td>106.0</td><td>null</td><td>null</td><td>121.0</td><td>36.0</td></tr><tr><td>&quot;Pyrolobus fumarii&quot;</td><td>54252</td><td>&quot;1A&quot;</td><td>&quot;Archaea&quot;</td><td>&quot;Crenarchaeota&quot;</td><td>&quot;Thermoprotei&quot;</td><td>&quot;Desulfurococcales&quot;</td><td>&quot;Pyrodictiaceae&quot;</td><td>&quot;Pyrolobus&quot;</td><td>&quot;GCA_000223395.1&quot;</td><td>54.9</td><td>1.8</td><td>&quot;X99555&quot;</td><td>68.4</td><td>90.0</td><td>106.0</td><td>null</td><td>null</td><td>113.0</td><td>23.0</td></tr><tr><td>&quot;Pyrococcus kukulkanii&quot;</td><td>1609559</td><td>&quot;NCB100&quot;</td><td>&quot;Archaea&quot;</td><td>&quot;Euryarchaeota&quot;</td><td>&quot;Thermococci&quot;</td><td>&quot;Thermococcales&quot;</td><td>&quot;Thermococcaceae&quot;</td><td>&quot;Pyrococcus&quot;</td><td>&quot;GCA_001577775.1&quot;</td><td>44.6</td><td>2.0</td><td>&quot;CP010835&quot;</td><td>66.5</td><td>70.0</td><td>105.0</td><td>null</td><td>null</td><td>112.0</td><td>42.0</td></tr><tr><td>&quot;Methanopyrus kandleri&quot;</td><td>2320</td><td>&quot;AV19&quot;</td><td>&quot;Archaea&quot;</td><td>&quot;Euryarchaeota&quot;</td><td>&quot;Methanopyri&quot;</td><td>&quot;Methanopyrales&quot;</td><td>&quot;Methanopyraceae&quot;</td><td>&quot;Methanopyrus&quot;</td><td>&quot;GCA_000007185.1&quot;</td><td>61.2</td><td>1.7</td><td>&quot;NR_074539&quot;</td><td>68.1</td><td>84.0</td><td>98.0</td><td>null</td><td>null</td><td>110.0</td><td>38.0</td></tr><tr><td>&hellip;</td><td>&hellip;</td><td>&hellip;</td><td>&hellip;</td><td>&hellip;</td><td>&hellip;</td><td>&hellip;</td><td>&hellip;</td><td>&hellip;</td><td>&hellip;</td><td>&hellip;</td><td>&hellip;</td><td>&hellip;</td><td>&hellip;</td><td>&hellip;</td><td>&hellip;</td><td>&hellip;</td><td>&hellip;</td><td>&hellip;</td><td>&hellip;</td></tr><tr><td>&quot;Moritella profunda&quot;</td><td>111291</td><td>&quot;2674&quot;</td><td>&quot;Bacteria&quot;</td><td>&quot;Proteobacteria&quot;</td><td>&quot;Gammaproteobacteria&quot;</td><td>&quot;Alteromonadales&quot;</td><td>&quot;Moritellaceae&quot;</td><td>&quot;Moritella&quot;</td><td>null</td><td>41.4</td><td>null</td><td>&quot;AJ252023&quot;</td><td>52.9</td><td>2.0</td><td>2.0</td><td>null</td><td>null</td><td>12.0</td><td>10.0</td></tr><tr><td>&quot;Lacinutrix jangbogonensis&quot;</td><td>1469557</td><td>&quot;PAMC 27137&quot;</td><td>&quot;Bacteria&quot;</td><td>&quot;Bacteroidetes&quot;</td><td>&quot;Flavobacteriia&quot;</td><td>&quot;Flavobacteriales&quot;</td><td>&quot;Flavobacteriaceae&quot;</td><td>&quot;Lacinutrix&quot;</td><td>null</td><td>32.1</td><td>null</td><td>&quot;KF977035&quot;</td><td>49.5</td><td>4.0</td><td>10.0</td><td>null</td><td>null</td><td>10.0</td><td>6.0</td></tr><tr><td>&quot;Desulfofaba gelida&quot;</td><td>84981</td><td>&quot;PSv29&quot;</td><td>&quot;Bacteria&quot;</td><td>&quot;Proteobacteria&quot;</td><td>&quot;Deltaproteobacteria&quot;</td><td>&quot;Desulfobacterales&quot;</td><td>&quot;Desulfobacteraceae&quot;</td><td>&quot;Desulfofaba&quot;</td><td>null</td><td>52.8</td><td>null</td><td>&quot;AF099063&quot;</td><td>52.9</td><td>-2.0</td><td>7.0</td><td>null</td><td>null</td><td>10.0</td><td>11.8</td></tr><tr><td>&quot;Shewanella benthica&quot;</td><td>43661</td><td>&quot;W 145&quot;</td><td>&quot;Bacteria&quot;</td><td>&quot;Proteobacteria&quot;</td><td>&quot;Gammaproteobacteria&quot;</td><td>&quot;Alteromonadales&quot;</td><td>&quot;Shewanellaceae&quot;</td><td>&quot;Shewanella&quot;</td><td>&quot;GCA_900476435.1&quot;</td><td>45.9</td><td>4.4</td><td>&quot;X82131&quot;</td><td>53.4</td><td>0.0</td><td>5.0</td><td>null</td><td>null</td><td>10.0</td><td>10.0</td></tr><tr><td>&quot;Methanofervidicoccus abyssi&quot;</td><td>2082189</td><td>&quot;HHB&quot;</td><td>&quot;Archaea&quot;</td><td>&quot;Euryarchaeota&quot;</td><td>&quot;Methanococci&quot;</td><td>&quot;Methanococcales&quot;</td><td>null</td><td>&quot;Methanofervidicoccus&quot;</td><td>null</td><td>35.9</td><td>null</td><td>&quot;BFAX01000003&quot;</td><td>61.9</td><td>60.0</td><td>70.0</td><td>null</td><td>null</td><td>80.0</td><td>20.0</td></tr></tbody></table></div>"
      ],
      "text/plain": [
       "shape: (8_639, 20)\n",
       "┌────────────┬────────────┬────────────┬────────────┬───┬──────────┬───────────┬───────┬───────────┐\n",
       "│ genus_and_ ┆ taxonomy_i ┆ strain     ┆ superkingd ┆ … ┆ Topt_low ┆ Topt_high ┆ Tmax  ┆ Tmax_Tmin │\n",
       "│ species    ┆ d          ┆ ---        ┆ om         ┆   ┆ ---      ┆ ---       ┆ ---   ┆ ---       │\n",
       "│ ---        ┆ ---        ┆ str        ┆ ---        ┆   ┆ f64      ┆ f64       ┆ f64   ┆ f64       │\n",
       "│ str        ┆ i64        ┆            ┆ str        ┆   ┆          ┆           ┆       ┆           │\n",
       "╞════════════╪════════════╪════════════╪════════════╪═══╪══════════╪═══════════╪═══════╪═══════════╡\n",
       "│ Methanopyr ┆ 2320       ┆ 116        ┆ Archaea    ┆ … ┆ null     ┆ null      ┆ 122.0 ┆ 37.0      │\n",
       "│ us         ┆            ┆            ┆            ┆   ┆          ┆           ┆       ┆           │\n",
       "│ kandleri   ┆            ┆            ┆            ┆   ┆          ┆           ┆       ┆           │\n",
       "│ \"Geogemma  ┆ 1927912    ┆ 121        ┆ Archaea    ┆ … ┆ null     ┆ null      ┆ 121.0 ┆ 36.0      │\n",
       "│ barossii\"  ┆            ┆            ┆            ┆   ┆          ┆           ┆       ┆           │\n",
       "│ Pyrolobus  ┆ 54252      ┆ 1A         ┆ Archaea    ┆ … ┆ null     ┆ null      ┆ 113.0 ┆ 23.0      │\n",
       "│ fumarii    ┆            ┆            ┆            ┆   ┆          ┆           ┆       ┆           │\n",
       "│ Pyrococcus ┆ 1609559    ┆ NCB100     ┆ Archaea    ┆ … ┆ null     ┆ null      ┆ 112.0 ┆ 42.0      │\n",
       "│ kukulkanii ┆            ┆            ┆            ┆   ┆          ┆           ┆       ┆           │\n",
       "│ Methanopyr ┆ 2320       ┆ AV19       ┆ Archaea    ┆ … ┆ null     ┆ null      ┆ 110.0 ┆ 38.0      │\n",
       "│ us         ┆            ┆            ┆            ┆   ┆          ┆           ┆       ┆           │\n",
       "│ kandleri   ┆            ┆            ┆            ┆   ┆          ┆           ┆       ┆           │\n",
       "│ …          ┆ …          ┆ …          ┆ …          ┆ … ┆ …        ┆ …         ┆ …     ┆ …         │\n",
       "│ Moritella  ┆ 111291     ┆ 2674       ┆ Bacteria   ┆ … ┆ null     ┆ null      ┆ 12.0  ┆ 10.0      │\n",
       "│ profunda   ┆            ┆            ┆            ┆   ┆          ┆           ┆       ┆           │\n",
       "│ Lacinutrix ┆ 1469557    ┆ PAMC 27137 ┆ Bacteria   ┆ … ┆ null     ┆ null      ┆ 10.0  ┆ 6.0       │\n",
       "│ jangbogone ┆            ┆            ┆            ┆   ┆          ┆           ┆       ┆           │\n",
       "│ nsis       ┆            ┆            ┆            ┆   ┆          ┆           ┆       ┆           │\n",
       "│ Desulfofab ┆ 84981      ┆ PSv29      ┆ Bacteria   ┆ … ┆ null     ┆ null      ┆ 10.0  ┆ 11.8      │\n",
       "│ a gelida   ┆            ┆            ┆            ┆   ┆          ┆           ┆       ┆           │\n",
       "│ Shewanella ┆ 43661      ┆ W 145      ┆ Bacteria   ┆ … ┆ null     ┆ null      ┆ 10.0  ┆ 10.0      │\n",
       "│ benthica   ┆            ┆            ┆            ┆   ┆          ┆           ┆       ┆           │\n",
       "│ Methanofer ┆ 2082189    ┆ HHB        ┆ Archaea    ┆ … ┆ null     ┆ null      ┆ 80.0  ┆ 20.0      │\n",
       "│ vidicoccus ┆            ┆            ┆            ┆   ┆          ┆           ┆       ┆           │\n",
       "│ abyssi     ┆            ┆            ┆            ┆   ┆          ┆           ┆       ┆           │\n",
       "└────────────┴────────────┴────────────┴────────────┴───┴──────────┴───────────┴───────┴───────────┘"
      ]
     },
     "execution_count": 78,
     "metadata": {},
     "output_type": "execute_result"
    }
   ],
   "source": [
    "tempura_DB = pl.read_csv(TEMPURA_DB)\n",
    "tempura_DB"
   ]
  },
  {
   "cell_type": "code",
   "execution_count": 79,
   "id": "60cd9a64-d6e3-4e84-858d-86c90afe3844",
   "metadata": {},
   "outputs": [
    {
     "data": {
      "text/plain": [
       "7577"
      ]
     },
     "execution_count": 79,
     "metadata": {},
     "output_type": "execute_result"
    }
   ],
   "source": [
    "tempura_DB[\"assembly_or_accession\"].is_null().sum()"
   ]
  },
  {
   "cell_type": "code",
   "execution_count": 80,
   "id": "c2152989-0076-44f9-9301-5a039b16e58d",
   "metadata": {},
   "outputs": [
    {
     "name": "stdout",
     "output_type": "stream",
     "text": [
      "shape: (4, 2)\n",
      "┌───────────────────┬───────┐\n",
      "│ thermo_class      ┆ count │\n",
      "│ ---               ┆ ---   │\n",
      "│ str               ┆ u32   │\n",
      "╞═══════════════════╪═══════╡\n",
      "│ Hyperthermophiles ┆ 30    │\n",
      "│ Mesophiles        ┆ 6753  │\n",
      "│ Thermophiles      ┆ 504   │\n",
      "│ Psychrophiles     ┆ 107   │\n",
      "└───────────────────┴───────┘\n",
      "shape: (1,)\n",
      "Series: 'group' [str]\n",
      "[\n",
      "\t\"bacteria\"\n",
      "]\n"
     ]
    },
    {
     "data": {
      "text/html": [
       "<div><style>\n",
       ".dataframe > thead > tr,\n",
       ".dataframe > tbody > tr {\n",
       "  text-align: right;\n",
       "  white-space: pre-wrap;\n",
       "}\n",
       "</style>\n",
       "<small>shape: (7_394, 26)</small><table border=\"1\" class=\"dataframe\"><thead><tr><th>genus_and_species</th><th>taxonomy_id</th><th>strain</th><th>superkingdom</th><th>phylum</th><th>class</th><th>order</th><th>family</th><th>genus</th><th>assembly_or_accession</th><th>Genome_GC</th><th>Genome_size</th><th>16S_accssion</th><th>16S_GC</th><th>Tmin</th><th>Topt_ave</th><th>Topt_low</th><th>Topt_high</th><th>Tmax</th><th>Tmax_Tmin</th><th>#assembly_accession</th><th>group</th><th>taxid</th><th>genome_size</th><th>gc_percent</th><th>thermo_class</th></tr><tr><td>str</td><td>i64</td><td>str</td><td>str</td><td>str</td><td>str</td><td>str</td><td>str</td><td>str</td><td>str</td><td>f64</td><td>f64</td><td>str</td><td>f64</td><td>f64</td><td>f64</td><td>f64</td><td>f64</td><td>f64</td><td>f64</td><td>str</td><td>str</td><td>i64</td><td>i64</td><td>f64</td><td>str</td></tr></thead><tbody><tr><td>&quot;Myxococcus xanthus&quot;</td><td>34</td><td>&quot;FB&quot;</td><td>&quot;Bacteria&quot;</td><td>&quot;Proteobacteria&quot;</td><td>&quot;Deltaproteobacteria&quot;</td><td>&quot;Myxococcales&quot;</td><td>&quot;Myxococcaceae&quot;</td><td>&quot;Myxococcus&quot;</td><td>&quot;GCA_000012685.1&quot;</td><td>68.9</td><td>9.1</td><td>&quot;AB218205&quot;</td><td>56.0</td><td>25.0</td><td>29.0</td><td>26.0</td><td>32.0</td><td>35.0</td><td>10.0</td><td>&quot;GCF_006402735.1&quot;</td><td>&quot;bacteria&quot;</td><td>34</td><td>9316447</td><td>69.0</td><td>&quot;Mesophiles&quot;</td></tr><tr><td>&quot;Myxococcus xanthus&quot;</td><td>34</td><td>&quot;FB&quot;</td><td>&quot;Bacteria&quot;</td><td>&quot;Proteobacteria&quot;</td><td>&quot;Deltaproteobacteria&quot;</td><td>&quot;Myxococcales&quot;</td><td>&quot;Myxococcaceae&quot;</td><td>&quot;Myxococcus&quot;</td><td>&quot;GCA_000012685.1&quot;</td><td>68.9</td><td>9.1</td><td>&quot;AB218205&quot;</td><td>56.0</td><td>25.0</td><td>29.0</td><td>26.0</td><td>32.0</td><td>35.0</td><td>10.0</td><td>&quot;GCF_006401215.1&quot;</td><td>&quot;bacteria&quot;</td><td>34</td><td>9262965</td><td>69.0</td><td>&quot;Mesophiles&quot;</td></tr><tr><td>&quot;Myxococcus xanthus&quot;</td><td>34</td><td>&quot;FB&quot;</td><td>&quot;Bacteria&quot;</td><td>&quot;Proteobacteria&quot;</td><td>&quot;Deltaproteobacteria&quot;</td><td>&quot;Myxococcales&quot;</td><td>&quot;Myxococcaceae&quot;</td><td>&quot;Myxococcus&quot;</td><td>&quot;GCA_000012685.1&quot;</td><td>68.9</td><td>9.1</td><td>&quot;AB218205&quot;</td><td>56.0</td><td>25.0</td><td>29.0</td><td>26.0</td><td>32.0</td><td>35.0</td><td>10.0</td><td>&quot;GCF_006400955.1&quot;</td><td>&quot;bacteria&quot;</td><td>34</td><td>9321034</td><td>69.0</td><td>&quot;Mesophiles&quot;</td></tr><tr><td>&quot;Myxococcus xanthus&quot;</td><td>34</td><td>&quot;FB&quot;</td><td>&quot;Bacteria&quot;</td><td>&quot;Proteobacteria&quot;</td><td>&quot;Deltaproteobacteria&quot;</td><td>&quot;Myxococcales&quot;</td><td>&quot;Myxococcaceae&quot;</td><td>&quot;Myxococcus&quot;</td><td>&quot;GCA_000012685.1&quot;</td><td>68.9</td><td>9.1</td><td>&quot;AB218205&quot;</td><td>56.0</td><td>25.0</td><td>29.0</td><td>26.0</td><td>32.0</td><td>35.0</td><td>10.0</td><td>&quot;GCF_006401635.1&quot;</td><td>&quot;bacteria&quot;</td><td>34</td><td>8952969</td><td>69.0</td><td>&quot;Mesophiles&quot;</td></tr><tr><td>&quot;Myxococcus xanthus&quot;</td><td>34</td><td>&quot;FB&quot;</td><td>&quot;Bacteria&quot;</td><td>&quot;Proteobacteria&quot;</td><td>&quot;Deltaproteobacteria&quot;</td><td>&quot;Myxococcales&quot;</td><td>&quot;Myxococcaceae&quot;</td><td>&quot;Myxococcus&quot;</td><td>&quot;GCA_000012685.1&quot;</td><td>68.9</td><td>9.1</td><td>&quot;AB218205&quot;</td><td>56.0</td><td>25.0</td><td>29.0</td><td>26.0</td><td>32.0</td><td>35.0</td><td>10.0</td><td>&quot;GCF_006402415.1&quot;</td><td>&quot;bacteria&quot;</td><td>34</td><td>9316378</td><td>69.0</td><td>&quot;Mesophiles&quot;</td></tr><tr><td>&hellip;</td><td>&hellip;</td><td>&hellip;</td><td>&hellip;</td><td>&hellip;</td><td>&hellip;</td><td>&hellip;</td><td>&hellip;</td><td>&hellip;</td><td>&hellip;</td><td>&hellip;</td><td>&hellip;</td><td>&hellip;</td><td>&hellip;</td><td>&hellip;</td><td>&hellip;</td><td>&hellip;</td><td>&hellip;</td><td>&hellip;</td><td>&hellip;</td><td>&hellip;</td><td>&hellip;</td><td>&hellip;</td><td>&hellip;</td><td>&hellip;</td><td>&hellip;</td></tr><tr><td>&quot;Capnocytophaga endodontalis&quot;</td><td>2708117</td><td>&quot;ChDC OS43&quot;</td><td>&quot;Bacteria&quot;</td><td>&quot;Bacteroidetes&quot;</td><td>&quot;Flavobacteriia&quot;</td><td>&quot;Flavobacteriales&quot;</td><td>&quot;Flavobacteriaceae&quot;</td><td>&quot;Capnocytophaga&quot;</td><td>&quot;GCA_002209445.1&quot;</td><td>38.2</td><td>3.4</td><td>&quot;NR_165677&quot;</td><td>50.9</td><td>30.0</td><td>35.0</td><td>null</td><td>null</td><td>40.0</td><td>10.0</td><td>&quot;GCA_002209445.1&quot;</td><td>&quot;bacteria&quot;</td><td>2708117</td><td>3412686</td><td>38.0</td><td>&quot;Mesophiles&quot;</td></tr><tr><td>&quot;Salaquimonas pukyongi&quot;</td><td>2712698</td><td>&quot;RR3-28&quot;</td><td>&quot;Bacteria&quot;</td><td>&quot;Proteobacteria&quot;</td><td>&quot;Alphaproteobacteria&quot;</td><td>&quot;Rhizobiales&quot;</td><td>&quot;Phyllobacteriaceae&quot;</td><td>&quot;Salaquimonas&quot;</td><td>&quot;GCA_001953055.1&quot;</td><td>58.6</td><td>3.4</td><td>&quot;MG889584&quot;</td><td>55.1</td><td>20.0</td><td>27.5</td><td>25.0</td><td>30.0</td><td>35.0</td><td>15.0</td><td>&quot;GCA_001953055.1&quot;</td><td>&quot;bacteria&quot;</td><td>2712698</td><td>3357577</td><td>58.5</td><td>&quot;Mesophiles&quot;</td></tr><tr><td>&quot;Acaryochloris marina&quot;</td><td>155978</td><td>&quot;MBIC11017&quot;</td><td>&quot;Bacteria&quot;</td><td>&quot;Cyanobacteria&quot;</td><td>null</td><td>&quot;Synechococcales&quot;</td><td>&quot;Acaryochloridaceae&quot;</td><td>&quot;Acaryochloris&quot;</td><td>&quot;GCA_000018105.1&quot;</td><td>47.0</td><td>8.4</td><td>&quot;AB058298&quot;</td><td>54.7</td><td>20.0</td><td>29.0</td><td>28.0</td><td>30.0</td><td>35.0</td><td>15.0</td><td>&quot;GCA_018336915.1&quot;</td><td>&quot;bacteria&quot;</td><td>2762553</td><td>7112772</td><td>47.0</td><td>&quot;Mesophiles&quot;</td></tr><tr><td>&quot;Acaryochloris marina&quot;</td><td>155978</td><td>&quot;MBIC11017&quot;</td><td>&quot;Bacteria&quot;</td><td>&quot;Cyanobacteria&quot;</td><td>null</td><td>&quot;Synechococcales&quot;</td><td>&quot;Acaryochloridaceae&quot;</td><td>&quot;Acaryochloris&quot;</td><td>&quot;GCA_000018105.1&quot;</td><td>47.0</td><td>8.4</td><td>&quot;AB058298&quot;</td><td>54.7</td><td>20.0</td><td>29.0</td><td>28.0</td><td>30.0</td><td>35.0</td><td>15.0</td><td>&quot;GCA_024347835.1&quot;</td><td>&quot;bacteria&quot;</td><td>2954813</td><td>7647728</td><td>47.0</td><td>&quot;Mesophiles&quot;</td></tr><tr><td>&quot;Fervidobacterium pennivorans&quot;</td><td>93466</td><td>&quot;Ven 5&quot;</td><td>&quot;Bacteria&quot;</td><td>&quot;Thermotogae&quot;</td><td>&quot;Thermotogae&quot;</td><td>&quot;Thermotogales&quot;</td><td>&quot;Fervidobacteriaceae&quot;</td><td>&quot;Fervidobacterium&quot;</td><td>&quot;GCA_000235405.3&quot;</td><td>38.9</td><td>2.2</td><td>&quot;NR_074097&quot;</td><td>61.3</td><td>50.0</td><td>80.0</td><td>null</td><td>null</td><td>100.0</td><td>50.0</td><td>&quot;GCA_012221625.1&quot;</td><td>&quot;bacteria&quot;</td><td>3022686</td><td>2002515</td><td>39.0</td><td>&quot;Hyperthermophiles&quot;</td></tr></tbody></table></div>"
      ],
      "text/plain": [
       "shape: (7_394, 26)\n",
       "┌────────────┬───────────┬───────────┬───────────┬───┬─────────┬───────────┬───────────┬───────────┐\n",
       "│ genus_and_ ┆ taxonomy_ ┆ strain    ┆ superking ┆ … ┆ taxid   ┆ genome_si ┆ gc_percen ┆ thermo_cl │\n",
       "│ species    ┆ id        ┆ ---       ┆ dom       ┆   ┆ ---     ┆ ze        ┆ t         ┆ ass       │\n",
       "│ ---        ┆ ---       ┆ str       ┆ ---       ┆   ┆ i64     ┆ ---       ┆ ---       ┆ ---       │\n",
       "│ str        ┆ i64       ┆           ┆ str       ┆   ┆         ┆ i64       ┆ f64       ┆ str       │\n",
       "╞════════════╪═══════════╪═══════════╪═══════════╪═══╪═════════╪═══════════╪═══════════╪═══════════╡\n",
       "│ Myxococcus ┆ 34        ┆ FB        ┆ Bacteria  ┆ … ┆ 34      ┆ 9316447   ┆ 69.0      ┆ Mesophile │\n",
       "│ xanthus    ┆           ┆           ┆           ┆   ┆         ┆           ┆           ┆ s         │\n",
       "│ Myxococcus ┆ 34        ┆ FB        ┆ Bacteria  ┆ … ┆ 34      ┆ 9262965   ┆ 69.0      ┆ Mesophile │\n",
       "│ xanthus    ┆           ┆           ┆           ┆   ┆         ┆           ┆           ┆ s         │\n",
       "│ Myxococcus ┆ 34        ┆ FB        ┆ Bacteria  ┆ … ┆ 34      ┆ 9321034   ┆ 69.0      ┆ Mesophile │\n",
       "│ xanthus    ┆           ┆           ┆           ┆   ┆         ┆           ┆           ┆ s         │\n",
       "│ Myxococcus ┆ 34        ┆ FB        ┆ Bacteria  ┆ … ┆ 34      ┆ 8952969   ┆ 69.0      ┆ Mesophile │\n",
       "│ xanthus    ┆           ┆           ┆           ┆   ┆         ┆           ┆           ┆ s         │\n",
       "│ Myxococcus ┆ 34        ┆ FB        ┆ Bacteria  ┆ … ┆ 34      ┆ 9316378   ┆ 69.0      ┆ Mesophile │\n",
       "│ xanthus    ┆           ┆           ┆           ┆   ┆         ┆           ┆           ┆ s         │\n",
       "│ …          ┆ …         ┆ …         ┆ …         ┆ … ┆ …       ┆ …         ┆ …         ┆ …         │\n",
       "│ Capnocytop ┆ 2708117   ┆ ChDC OS43 ┆ Bacteria  ┆ … ┆ 2708117 ┆ 3412686   ┆ 38.0      ┆ Mesophile │\n",
       "│ haga endod ┆           ┆           ┆           ┆   ┆         ┆           ┆           ┆ s         │\n",
       "│ ontalis    ┆           ┆           ┆           ┆   ┆         ┆           ┆           ┆           │\n",
       "│ Salaquimon ┆ 2712698   ┆ RR3-28    ┆ Bacteria  ┆ … ┆ 2712698 ┆ 3357577   ┆ 58.5      ┆ Mesophile │\n",
       "│ as         ┆           ┆           ┆           ┆   ┆         ┆           ┆           ┆ s         │\n",
       "│ pukyongi   ┆           ┆           ┆           ┆   ┆         ┆           ┆           ┆           │\n",
       "│ Acaryochlo ┆ 155978    ┆ MBIC11017 ┆ Bacteria  ┆ … ┆ 2762553 ┆ 7112772   ┆ 47.0      ┆ Mesophile │\n",
       "│ ris marina ┆           ┆           ┆           ┆   ┆         ┆           ┆           ┆ s         │\n",
       "│ Acaryochlo ┆ 155978    ┆ MBIC11017 ┆ Bacteria  ┆ … ┆ 2954813 ┆ 7647728   ┆ 47.0      ┆ Mesophile │\n",
       "│ ris marina ┆           ┆           ┆           ┆   ┆         ┆           ┆           ┆ s         │\n",
       "│ Fervidobac ┆ 93466     ┆ Ven 5     ┆ Bacteria  ┆ … ┆ 3022686 ┆ 2002515   ┆ 39.0      ┆ Hyperther │\n",
       "│ terium pen ┆           ┆           ┆           ┆   ┆         ┆           ┆           ┆ mophiles  │\n",
       "│ nivorans   ┆           ┆           ┆           ┆   ┆         ┆           ┆           ┆           │\n",
       "└────────────┴───────────┴───────────┴───────────┴───┴─────────┴───────────┴───────────┴───────────┘"
      ]
     },
     "execution_count": 80,
     "metadata": {},
     "output_type": "execute_result"
    }
   ],
   "source": [
    "def classify(temp):\n",
    "    if temp < 20:\n",
    "        return \"Psychrophiles\"\n",
    "    if temp < 45:\n",
    "        return \"Mesophiles\"\n",
    "    if temp < 80:\n",
    "        return \"Thermophiles\"\n",
    "    return \"Hyperthermophiles\"\n",
    "    \n",
    "    \n",
    "tempura_DB_merged = tempura_DB.join(\n",
    "                            summary.select([\"#assembly_accession\", \"group\", \"taxid\", \"species_taxid\", \"genome_size\", \"gc_percent\"]), \n",
    "                                    left_on=\"taxonomy_id\", \n",
    "                                    right_on=\"species_taxid\", \n",
    "                                    how=\"inner\"\n",
    "                                )\\\n",
    "                        .with_columns(\n",
    "                                    pl.col(\"Topt_ave\").map_elements(classify, return_dtype=str)\n",
    "                                   .alias(\"thermo_class\")\n",
    "                        )\\\n",
    "                    .filter(pl.col(\"superkingdom\") == \"Bacteria\")\n",
    "print(tempura_DB_merged[\"thermo_class\"].value_counts())\n",
    "print(tempura_DB_merged[\"group\"].unique())\n",
    "tempura_DB_merged"
   ]
  },
  {
   "cell_type": "code",
   "execution_count": 81,
   "id": "328cd846",
   "metadata": {},
   "outputs": [],
   "source": [
    "accessions = list(set(tempura_DB_merged['#assembly_accession']))"
   ]
  },
  {
   "cell_type": "code",
   "execution_count": 82,
   "id": "3ecd4b58-2552-443c-ac88-1954cd83e4e6",
   "metadata": {},
   "outputs": [
    {
     "data": {
      "text/plain": [
       "118101"
      ]
     },
     "execution_count": 82,
     "metadata": {},
     "output_type": "execute_result"
    }
   ],
   "source": [
    "total_DB_accessions"
   ]
  },
  {
   "cell_type": "code",
   "execution_count": 83,
   "id": "1ae39774-c8ad-43b4-824a-7aa54b546703",
   "metadata": {},
   "outputs": [
    {
     "data": {
      "text/plain": [
       "3894"
      ]
     },
     "execution_count": 83,
     "metadata": {},
     "output_type": "execute_result"
    }
   ],
   "source": [
    "mutual_DB_accessions_with_TEMPURA = DB_accessions.intersection(accessions)\n",
    "len(mutual_DB_accessions_with_TEMPURA)"
   ]
  },
  {
   "cell_type": "markdown",
   "id": "1a797aa4-d6b9-4b47-807c-46774996e771",
   "metadata": {},
   "source": [
    "### Merge IR-DB with TEMPURA Database & Keep Only Bacteria"
   ]
  },
  {
   "cell_type": "code",
   "execution_count": 84,
   "id": "cbf741f3-ed9f-4022-9bed-366be691a795",
   "metadata": {},
   "outputs": [
    {
     "data": {
      "text/plain": [
       "(34330450, 20)"
      ]
     },
     "execution_count": 84,
     "metadata": {},
     "output_type": "execute_result"
    }
   ],
   "source": [
    "irp_df.shape"
   ]
  },
  {
   "cell_type": "code",
   "execution_count": 85,
   "id": "274c01db-0f57-445e-9bcf-4d81975fa276",
   "metadata": {},
   "outputs": [
    {
     "data": {
      "text/html": [
       "<div><style>\n",
       ".dataframe > thead > tr,\n",
       ".dataframe > tbody > tr {\n",
       "  text-align: right;\n",
       "  white-space: pre-wrap;\n",
       "}\n",
       "</style>\n",
       "<small>shape: (2_196_849, 45)</small><table border=\"1\" class=\"dataframe\"><thead><tr><th>seqID</th><th>start</th><th>end</th><th>sequenceOfArm</th><th>sequenceOfSpacer</th><th>sequence</th><th>armLength</th><th>spacerLength</th><th>sequenceLength</th><th>arm_a</th><th>arm_g</th><th>arm_c</th><th>arm_t</th><th>composition</th><th>#assembly_accession</th><th>superkingdom</th><th>kingdom_n</th><th>phylum</th><th>genome_size</th><th>gc_percent</th><th>genus_and_species</th><th>taxonomy_id</th><th>strain</th><th>superkingdom_tempura</th><th>phylum_tempura</th><th>class</th><th>order</th><th>family</th><th>genus</th><th>assembly_or_accession</th><th>Genome_GC</th><th>Genome_size</th><th>16S_accssion</th><th>16S_GC</th><th>Tmin</th><th>Topt_ave</th><th>Topt_low</th><th>Topt_high</th><th>Tmax</th><th>Tmax_Tmin</th><th>group</th><th>taxid</th><th>genome_size_tempura</th><th>gc_percent_tempura</th><th>thermo_class</th></tr><tr><td>str</td><td>i64</td><td>i64</td><td>str</td><td>str</td><td>str</td><td>i64</td><td>i64</td><td>i64</td><td>i64</td><td>i64</td><td>i64</td><td>i64</td><td>str</td><td>str</td><td>str</td><td>str</td><td>str</td><td>i64</td><td>f64</td><td>str</td><td>i64</td><td>str</td><td>str</td><td>str</td><td>str</td><td>str</td><td>str</td><td>str</td><td>str</td><td>f64</td><td>f64</td><td>str</td><td>f64</td><td>f64</td><td>f64</td><td>f64</td><td>f64</td><td>f64</td><td>f64</td><td>str</td><td>i64</td><td>i64</td><td>f64</td><td>str</td></tr></thead><tbody><tr><td>&quot;AE017194.1&quot;</td><td>1785</td><td>1813</td><td>&quot;acagtctatc&quot;</td><td>&quot;cacatgta&quot;</td><td>&quot;acagtctatccacatgtagatagactgt&quot;</td><td>10</td><td>8</td><td>28</td><td>3</td><td>1</td><td>3</td><td>3</td><td>&quot;3A/3C/1G/3T&quot;</td><td>&quot;GCA_000008005.1&quot;</td><td>&quot;Bacteria&quot;</td><td>&quot;Eubacteria&quot;</td><td>&quot;Bacillota&quot;</td><td>5432652</td><td>35.5</td><td>&quot;Bacillus cereus&quot;</td><td>1396</td><td>&quot;ATCC 14579&quot;</td><td>&quot;Bacteria&quot;</td><td>&quot;Firmicutes&quot;</td><td>&quot;Bacilli&quot;</td><td>&quot;Bacillales&quot;</td><td>&quot;Bacillaceae&quot;</td><td>&quot;Bacillus&quot;</td><td>&quot;GCA_006094295.1&quot;</td><td>35.3</td><td>5.4</td><td>&quot;D16266&quot;</td><td>53.4</td><td>10.0</td><td>37.0</td><td>null</td><td>null</td><td>45.0</td><td>35.0</td><td>&quot;bacteria&quot;</td><td>222523</td><td>5432652</td><td>35.5</td><td>&quot;Mesophiles&quot;</td></tr><tr><td>&quot;AE017194.1&quot;</td><td>9064</td><td>9088</td><td>&quot;aagaggggagat&quot;</td><td>&quot;.&quot;</td><td>&quot;aagaggggagatatctcccctctt&quot;</td><td>12</td><td>0</td><td>24</td><td>5</td><td>6</td><td>0</td><td>1</td><td>&quot;5A/0C/6G/1T&quot;</td><td>&quot;GCA_000008005.1&quot;</td><td>&quot;Bacteria&quot;</td><td>&quot;Eubacteria&quot;</td><td>&quot;Bacillota&quot;</td><td>5432652</td><td>35.5</td><td>&quot;Bacillus cereus&quot;</td><td>1396</td><td>&quot;ATCC 14579&quot;</td><td>&quot;Bacteria&quot;</td><td>&quot;Firmicutes&quot;</td><td>&quot;Bacilli&quot;</td><td>&quot;Bacillales&quot;</td><td>&quot;Bacillaceae&quot;</td><td>&quot;Bacillus&quot;</td><td>&quot;GCA_006094295.1&quot;</td><td>35.3</td><td>5.4</td><td>&quot;D16266&quot;</td><td>53.4</td><td>10.0</td><td>37.0</td><td>null</td><td>null</td><td>45.0</td><td>35.0</td><td>&quot;bacteria&quot;</td><td>222523</td><td>5432652</td><td>35.5</td><td>&quot;Mesophiles&quot;</td></tr><tr><td>&quot;AE017194.1&quot;</td><td>10867</td><td>10890</td><td>&quot;attgatgaac&quot;</td><td>&quot;gct&quot;</td><td>&quot;attgatgaacgctgttcatcaat&quot;</td><td>10</td><td>3</td><td>23</td><td>4</td><td>2</td><td>1</td><td>3</td><td>&quot;4A/1C/2G/3T&quot;</td><td>&quot;GCA_000008005.1&quot;</td><td>&quot;Bacteria&quot;</td><td>&quot;Eubacteria&quot;</td><td>&quot;Bacillota&quot;</td><td>5432652</td><td>35.5</td><td>&quot;Bacillus cereus&quot;</td><td>1396</td><td>&quot;ATCC 14579&quot;</td><td>&quot;Bacteria&quot;</td><td>&quot;Firmicutes&quot;</td><td>&quot;Bacilli&quot;</td><td>&quot;Bacillales&quot;</td><td>&quot;Bacillaceae&quot;</td><td>&quot;Bacillus&quot;</td><td>&quot;GCA_006094295.1&quot;</td><td>35.3</td><td>5.4</td><td>&quot;D16266&quot;</td><td>53.4</td><td>10.0</td><td>37.0</td><td>null</td><td>null</td><td>45.0</td><td>35.0</td><td>&quot;bacteria&quot;</td><td>222523</td><td>5432652</td><td>35.5</td><td>&quot;Mesophiles&quot;</td></tr><tr><td>&quot;AE017194.1&quot;</td><td>14322</td><td>14352</td><td>&quot;aaaaacacaagtc&quot;</td><td>&quot;tttt&quot;</td><td>&quot;aaaaacacaagtcttttgacttgtgttttt&quot;</td><td>13</td><td>4</td><td>30</td><td>8</td><td>1</td><td>3</td><td>1</td><td>&quot;8A/3C/1G/1T&quot;</td><td>&quot;GCA_000008005.1&quot;</td><td>&quot;Bacteria&quot;</td><td>&quot;Eubacteria&quot;</td><td>&quot;Bacillota&quot;</td><td>5432652</td><td>35.5</td><td>&quot;Bacillus cereus&quot;</td><td>1396</td><td>&quot;ATCC 14579&quot;</td><td>&quot;Bacteria&quot;</td><td>&quot;Firmicutes&quot;</td><td>&quot;Bacilli&quot;</td><td>&quot;Bacillales&quot;</td><td>&quot;Bacillaceae&quot;</td><td>&quot;Bacillus&quot;</td><td>&quot;GCA_006094295.1&quot;</td><td>35.3</td><td>5.4</td><td>&quot;D16266&quot;</td><td>53.4</td><td>10.0</td><td>37.0</td><td>null</td><td>null</td><td>45.0</td><td>35.0</td><td>&quot;bacteria&quot;</td><td>222523</td><td>5432652</td><td>35.5</td><td>&quot;Mesophiles&quot;</td></tr><tr><td>&quot;AE017194.1&quot;</td><td>20272</td><td>20304</td><td>&quot;aactcccgtccct&quot;</td><td>&quot;ttatat&quot;</td><td>&quot;aactcccgtccctttatatagggacgggag…</td><td>13</td><td>6</td><td>32</td><td>2</td><td>1</td><td>7</td><td>3</td><td>&quot;2A/7C/1G/3T&quot;</td><td>&quot;GCA_000008005.1&quot;</td><td>&quot;Bacteria&quot;</td><td>&quot;Eubacteria&quot;</td><td>&quot;Bacillota&quot;</td><td>5432652</td><td>35.5</td><td>&quot;Bacillus cereus&quot;</td><td>1396</td><td>&quot;ATCC 14579&quot;</td><td>&quot;Bacteria&quot;</td><td>&quot;Firmicutes&quot;</td><td>&quot;Bacilli&quot;</td><td>&quot;Bacillales&quot;</td><td>&quot;Bacillaceae&quot;</td><td>&quot;Bacillus&quot;</td><td>&quot;GCA_006094295.1&quot;</td><td>35.3</td><td>5.4</td><td>&quot;D16266&quot;</td><td>53.4</td><td>10.0</td><td>37.0</td><td>null</td><td>null</td><td>45.0</td><td>35.0</td><td>&quot;bacteria&quot;</td><td>222523</td><td>5432652</td><td>35.5</td><td>&quot;Mesophiles&quot;</td></tr><tr><td>&hellip;</td><td>&hellip;</td><td>&hellip;</td><td>&hellip;</td><td>&hellip;</td><td>&hellip;</td><td>&hellip;</td><td>&hellip;</td><td>&hellip;</td><td>&hellip;</td><td>&hellip;</td><td>&hellip;</td><td>&hellip;</td><td>&hellip;</td><td>&hellip;</td><td>&hellip;</td><td>&hellip;</td><td>&hellip;</td><td>&hellip;</td><td>&hellip;</td><td>&hellip;</td><td>&hellip;</td><td>&hellip;</td><td>&hellip;</td><td>&hellip;</td><td>&hellip;</td><td>&hellip;</td><td>&hellip;</td><td>&hellip;</td><td>&hellip;</td><td>&hellip;</td><td>&hellip;</td><td>&hellip;</td><td>&hellip;</td><td>&hellip;</td><td>&hellip;</td><td>&hellip;</td><td>&hellip;</td><td>&hellip;</td><td>&hellip;</td><td>&hellip;</td><td>&hellip;</td><td>&hellip;</td><td>&hellip;</td><td>&hellip;</td></tr><tr><td>&quot;NZ_OY843610.1&quot;</td><td>4405625</td><td>4405653</td><td>&quot;aaaaatgcccac&quot;</td><td>&quot;tatt&quot;</td><td>&quot;aaaaatgcccactattgtgggcattttt&quot;</td><td>12</td><td>4</td><td>28</td><td>6</td><td>1</td><td>4</td><td>1</td><td>&quot;6A/4C/1G/1T&quot;</td><td>&quot;GCF_963692985.1&quot;</td><td>&quot;Bacteria&quot;</td><td>&quot;Eubacteria&quot;</td><td>&quot;Bacteroidota&quot;</td><td>4490751</td><td>36.0</td><td>&quot;Maribacter dokdonensis&quot;</td><td>320912</td><td>&quot;DSW-8&quot;</td><td>&quot;Bacteria&quot;</td><td>&quot;Bacteroidetes&quot;</td><td>&quot;Flavobacteriia&quot;</td><td>&quot;Flavobacteriales&quot;</td><td>&quot;Flavobacteriaceae&quot;</td><td>&quot;Maribacter&quot;</td><td>null</td><td>36.1</td><td>null</td><td>&quot;AY960749&quot;</td><td>54.2</td><td>4.0</td><td>30.0</td><td>null</td><td>null</td><td>35.0</td><td>31.0</td><td>&quot;bacteria&quot;</td><td>320912</td><td>4490751</td><td>36.0</td><td>&quot;Mesophiles&quot;</td></tr><tr><td>&quot;NZ_OY843610.1&quot;</td><td>4454730</td><td>4454752</td><td>&quot;acctgcctgcc&quot;</td><td>&quot;.&quot;</td><td>&quot;acctgcctgccggcaggcaggt&quot;</td><td>11</td><td>0</td><td>22</td><td>1</td><td>2</td><td>6</td><td>2</td><td>&quot;1A/6C/2G/2T&quot;</td><td>&quot;GCF_963692985.1&quot;</td><td>&quot;Bacteria&quot;</td><td>&quot;Eubacteria&quot;</td><td>&quot;Bacteroidota&quot;</td><td>4490751</td><td>36.0</td><td>&quot;Maribacter dokdonensis&quot;</td><td>320912</td><td>&quot;DSW-8&quot;</td><td>&quot;Bacteria&quot;</td><td>&quot;Bacteroidetes&quot;</td><td>&quot;Flavobacteriia&quot;</td><td>&quot;Flavobacteriales&quot;</td><td>&quot;Flavobacteriaceae&quot;</td><td>&quot;Maribacter&quot;</td><td>null</td><td>36.1</td><td>null</td><td>&quot;AY960749&quot;</td><td>54.2</td><td>4.0</td><td>30.0</td><td>null</td><td>null</td><td>35.0</td><td>31.0</td><td>&quot;bacteria&quot;</td><td>320912</td><td>4490751</td><td>36.0</td><td>&quot;Mesophiles&quot;</td></tr><tr><td>&quot;NZ_OY843610.1&quot;</td><td>4455903</td><td>4455923</td><td>&quot;cctgcctgcc&quot;</td><td>&quot;.&quot;</td><td>&quot;cctgcctgccggcaggcagg&quot;</td><td>10</td><td>0</td><td>20</td><td>0</td><td>2</td><td>6</td><td>2</td><td>&quot;0A/6C/2G/2T&quot;</td><td>&quot;GCF_963692985.1&quot;</td><td>&quot;Bacteria&quot;</td><td>&quot;Eubacteria&quot;</td><td>&quot;Bacteroidota&quot;</td><td>4490751</td><td>36.0</td><td>&quot;Maribacter dokdonensis&quot;</td><td>320912</td><td>&quot;DSW-8&quot;</td><td>&quot;Bacteria&quot;</td><td>&quot;Bacteroidetes&quot;</td><td>&quot;Flavobacteriia&quot;</td><td>&quot;Flavobacteriales&quot;</td><td>&quot;Flavobacteriaceae&quot;</td><td>&quot;Maribacter&quot;</td><td>null</td><td>36.1</td><td>null</td><td>&quot;AY960749&quot;</td><td>54.2</td><td>4.0</td><td>30.0</td><td>null</td><td>null</td><td>35.0</td><td>31.0</td><td>&quot;bacteria&quot;</td><td>320912</td><td>4490751</td><td>36.0</td><td>&quot;Mesophiles&quot;</td></tr><tr><td>&quot;NZ_OY843610.1&quot;</td><td>4466187</td><td>4466211</td><td>&quot;catctacatg&quot;</td><td>&quot;ggta&quot;</td><td>&quot;catctacatgggtacatgtagatg&quot;</td><td>10</td><td>4</td><td>24</td><td>3</td><td>1</td><td>3</td><td>3</td><td>&quot;3A/3C/1G/3T&quot;</td><td>&quot;GCF_963692985.1&quot;</td><td>&quot;Bacteria&quot;</td><td>&quot;Eubacteria&quot;</td><td>&quot;Bacteroidota&quot;</td><td>4490751</td><td>36.0</td><td>&quot;Maribacter dokdonensis&quot;</td><td>320912</td><td>&quot;DSW-8&quot;</td><td>&quot;Bacteria&quot;</td><td>&quot;Bacteroidetes&quot;</td><td>&quot;Flavobacteriia&quot;</td><td>&quot;Flavobacteriales&quot;</td><td>&quot;Flavobacteriaceae&quot;</td><td>&quot;Maribacter&quot;</td><td>null</td><td>36.1</td><td>null</td><td>&quot;AY960749&quot;</td><td>54.2</td><td>4.0</td><td>30.0</td><td>null</td><td>null</td><td>35.0</td><td>31.0</td><td>&quot;bacteria&quot;</td><td>320912</td><td>4490751</td><td>36.0</td><td>&quot;Mesophiles&quot;</td></tr><tr><td>&quot;NZ_OY843610.1&quot;</td><td>4486664</td><td>4486688</td><td>&quot;agcagcatgtt&quot;</td><td>&quot;tt&quot;</td><td>&quot;agcagcatgttttaacatgctgct&quot;</td><td>11</td><td>2</td><td>24</td><td>3</td><td>3</td><td>2</td><td>3</td><td>&quot;3A/2C/3G/3T&quot;</td><td>&quot;GCF_963692985.1&quot;</td><td>&quot;Bacteria&quot;</td><td>&quot;Eubacteria&quot;</td><td>&quot;Bacteroidota&quot;</td><td>4490751</td><td>36.0</td><td>&quot;Maribacter dokdonensis&quot;</td><td>320912</td><td>&quot;DSW-8&quot;</td><td>&quot;Bacteria&quot;</td><td>&quot;Bacteroidetes&quot;</td><td>&quot;Flavobacteriia&quot;</td><td>&quot;Flavobacteriales&quot;</td><td>&quot;Flavobacteriaceae&quot;</td><td>&quot;Maribacter&quot;</td><td>null</td><td>36.1</td><td>null</td><td>&quot;AY960749&quot;</td><td>54.2</td><td>4.0</td><td>30.0</td><td>null</td><td>null</td><td>35.0</td><td>31.0</td><td>&quot;bacteria&quot;</td><td>320912</td><td>4490751</td><td>36.0</td><td>&quot;Mesophiles&quot;</td></tr></tbody></table></div>"
      ],
      "text/plain": [
       "shape: (2_196_849, 45)\n",
       "┌─────────────┬─────────┬─────────┬────────────┬───┬────────┬────────────┬────────────┬────────────┐\n",
       "│ seqID       ┆ start   ┆ end     ┆ sequenceOf ┆ … ┆ taxid  ┆ genome_siz ┆ gc_percent ┆ thermo_cla │\n",
       "│ ---         ┆ ---     ┆ ---     ┆ Arm        ┆   ┆ ---    ┆ e_tempura  ┆ _tempura   ┆ ss         │\n",
       "│ str         ┆ i64     ┆ i64     ┆ ---        ┆   ┆ i64    ┆ ---        ┆ ---        ┆ ---        │\n",
       "│             ┆         ┆         ┆ str        ┆   ┆        ┆ i64        ┆ f64        ┆ str        │\n",
       "╞═════════════╪═════════╪═════════╪════════════╪═══╪════════╪════════════╪════════════╪════════════╡\n",
       "│ AE017194.1  ┆ 1785    ┆ 1813    ┆ acagtctatc ┆ … ┆ 222523 ┆ 5432652    ┆ 35.5       ┆ Mesophiles │\n",
       "│ AE017194.1  ┆ 9064    ┆ 9088    ┆ aagaggggag ┆ … ┆ 222523 ┆ 5432652    ┆ 35.5       ┆ Mesophiles │\n",
       "│             ┆         ┆         ┆ at         ┆   ┆        ┆            ┆            ┆            │\n",
       "│ AE017194.1  ┆ 10867   ┆ 10890   ┆ attgatgaac ┆ … ┆ 222523 ┆ 5432652    ┆ 35.5       ┆ Mesophiles │\n",
       "│ AE017194.1  ┆ 14322   ┆ 14352   ┆ aaaaacacaa ┆ … ┆ 222523 ┆ 5432652    ┆ 35.5       ┆ Mesophiles │\n",
       "│             ┆         ┆         ┆ gtc        ┆   ┆        ┆            ┆            ┆            │\n",
       "│ AE017194.1  ┆ 20272   ┆ 20304   ┆ aactcccgtc ┆ … ┆ 222523 ┆ 5432652    ┆ 35.5       ┆ Mesophiles │\n",
       "│             ┆         ┆         ┆ cct        ┆   ┆        ┆            ┆            ┆            │\n",
       "│ …           ┆ …       ┆ …       ┆ …          ┆ … ┆ …      ┆ …          ┆ …          ┆ …          │\n",
       "│ NZ_OY843610 ┆ 4405625 ┆ 4405653 ┆ aaaaatgccc ┆ … ┆ 320912 ┆ 4490751    ┆ 36.0       ┆ Mesophiles │\n",
       "│ .1          ┆         ┆         ┆ ac         ┆   ┆        ┆            ┆            ┆            │\n",
       "│ NZ_OY843610 ┆ 4454730 ┆ 4454752 ┆ acctgcctgc ┆ … ┆ 320912 ┆ 4490751    ┆ 36.0       ┆ Mesophiles │\n",
       "│ .1          ┆         ┆         ┆ c          ┆   ┆        ┆            ┆            ┆            │\n",
       "│ NZ_OY843610 ┆ 4455903 ┆ 4455923 ┆ cctgcctgcc ┆ … ┆ 320912 ┆ 4490751    ┆ 36.0       ┆ Mesophiles │\n",
       "│ .1          ┆         ┆         ┆            ┆   ┆        ┆            ┆            ┆            │\n",
       "│ NZ_OY843610 ┆ 4466187 ┆ 4466211 ┆ catctacatg ┆ … ┆ 320912 ┆ 4490751    ┆ 36.0       ┆ Mesophiles │\n",
       "│ .1          ┆         ┆         ┆            ┆   ┆        ┆            ┆            ┆            │\n",
       "│ NZ_OY843610 ┆ 4486664 ┆ 4486688 ┆ agcagcatgt ┆ … ┆ 320912 ┆ 4490751    ┆ 36.0       ┆ Mesophiles │\n",
       "│ .1          ┆         ┆         ┆ t          ┆   ┆        ┆            ┆            ┆            │\n",
       "└─────────────┴─────────┴─────────┴────────────┴───┴────────┴────────────┴────────────┴────────────┘"
      ]
     },
     "execution_count": 85,
     "metadata": {},
     "output_type": "execute_result"
    }
   ],
   "source": [
    "irp_df_tempura = irp_df\\\n",
    "                    .with_columns(\n",
    "                                pl.col(\"gc_percent\") * 1e2 \n",
    "                    ).join(\n",
    "                             tempura_DB_merged, \n",
    "                             left_on=\"#assembly_accession\",\n",
    "                             right_on=\"#assembly_accession\", \n",
    "                             how=\"inner\",\n",
    "                            suffix=\"_tempura\")\n",
    "irp_df_tempura"
   ]
  },
  {
   "cell_type": "code",
   "execution_count": 86,
   "id": "0be7c9af-3b84-4e97-ab56-092a899599cc",
   "metadata": {},
   "outputs": [
    {
     "name": "stdout",
     "output_type": "stream",
     "text": [
      "superkingdom\n",
      "shape: (0, 2)\n",
      "┌──────────────┬──────────────────────┐\n",
      "│ superkingdom ┆ superkingdom_tempura │\n",
      "│ ---          ┆ ---                  │\n",
      "│ str          ┆ str                  │\n",
      "╞══════════════╪══════════════════════╡\n",
      "└──────────────┴──────────────────────┘\n",
      "genome_size\n",
      "shape: (0, 2)\n",
      "┌─────────────┬─────────────────────┐\n",
      "│ genome_size ┆ genome_size_tempura │\n",
      "│ ---         ┆ ---                 │\n",
      "│ i64         ┆ i64                 │\n",
      "╞═════════════╪═════════════════════╡\n",
      "└─────────────┴─────────────────────┘\n"
     ]
    }
   ],
   "source": [
    "for col in [\"superkingdom\", \"genome_size\"]:\n",
    "    print(col)\n",
    "    print(irp_df_tempura.filter(pl.col(col) != pl.col(f\"{col}_tempura\")).select([col, f\"{col}_tempura\"]))"
   ]
  },
  {
   "cell_type": "code",
   "execution_count": 87,
   "id": "b4039679-4afb-4272-a3f5-8c1b40a62aa4",
   "metadata": {},
   "outputs": [
    {
     "data": {
      "text/plain": [
       "{'GCA_036812565.1'}"
      ]
     },
     "execution_count": 87,
     "metadata": {},
     "output_type": "execute_result"
    }
   ],
   "source": [
    "TEMPURA_accessions_without_IR = mutual_DB_accessions_with_TEMPURA - set(irp_df_tempura[\"#assembly_accession\"])\n",
    "TEMPURA_accessions_without_IR"
   ]
  },
  {
   "cell_type": "code",
   "execution_count": 88,
   "id": "36be6c49-2d5e-4f07-9d3f-fe9cbd85445c",
   "metadata": {},
   "outputs": [
    {
     "data": {
      "text/html": [
       "<div><style>\n",
       ".dataframe > thead > tr,\n",
       ".dataframe > tbody > tr {\n",
       "  text-align: right;\n",
       "  white-space: pre-wrap;\n",
       "}\n",
       "</style>\n",
       "<small>shape: (4, 2)</small><table border=\"1\" class=\"dataframe\"><thead><tr><th>thermo_class</th><th>count</th></tr><tr><td>str</td><td>u32</td></tr></thead><tbody><tr><td>&quot;Thermophiles&quot;</td><td>504</td></tr><tr><td>&quot;Psychrophiles&quot;</td><td>107</td></tr><tr><td>&quot;Mesophiles&quot;</td><td>6753</td></tr><tr><td>&quot;Hyperthermophiles&quot;</td><td>30</td></tr></tbody></table></div>"
      ],
      "text/plain": [
       "shape: (4, 2)\n",
       "┌───────────────────┬───────┐\n",
       "│ thermo_class      ┆ count │\n",
       "│ ---               ┆ ---   │\n",
       "│ str               ┆ u32   │\n",
       "╞═══════════════════╪═══════╡\n",
       "│ Thermophiles      ┆ 504   │\n",
       "│ Psychrophiles     ┆ 107   │\n",
       "│ Mesophiles        ┆ 6753  │\n",
       "│ Hyperthermophiles ┆ 30    │\n",
       "└───────────────────┴───────┘"
      ]
     },
     "execution_count": 88,
     "metadata": {},
     "output_type": "execute_result"
    }
   ],
   "source": [
    "tempura_DB_merged['thermo_class'].value_counts()"
   ]
  },
  {
   "cell_type": "markdown",
   "id": "92cebf4f-3536-4d1e-af5b-ef94fa83d72f",
   "metadata": {},
   "source": [
    "## IR Frequency (%) Spacer Length Distribution"
   ]
  },
  {
   "cell_type": "code",
   "execution_count": 89,
   "id": "28ac21f9-b6c3-47a5-9dba-cee622435f34",
   "metadata": {},
   "outputs": [
    {
     "data": {
      "image/png": "[encoded data removed]",
      "text/plain": [
       "<Figure size 1000x500 with 1 Axes>"
      ]
     },
     "metadata": {},
     "output_type": "display_data"
    }
   ],
   "source": [
    "total_IR_per_class = irp_df_tempura.group_by(\"thermo_class\", maintain_order=True)\\\n",
    "                            .agg(\n",
    "                                pl.col(\"start\").count().alias(\"IR_counts_global\")\n",
    "                            )\n",
    "\n",
    "\n",
    "total_IR = irp_df_tempura.group_by([\"thermo_class\", \"spacerLength\"], maintain_order=True)\\\n",
    "                .agg(\n",
    "                pl.col(\"start\").count().alias(\"IR_counts\"))\\\n",
    "                .join(\n",
    "                        total_IR_per_class,\n",
    "                        how=\"left\",\n",
    "                        on=\"thermo_class\",\n",
    "                )\\\n",
    "                .with_columns(\n",
    "                                (pl.col(\"IR_counts\") * 1e2 / pl.col(\"IR_counts_global\")).alias(\"IR_perc\")\n",
    ")\n",
    "\n",
    "\n",
    "fig, ax = plt.subplots(nrows=1, ncols=1, figsize=(10, 5)) #, gridspec_kwargs={\"wspace\": 0.1})\n",
    "# motifs_in_terminators[\"divergence\"] = 100.0 - motifs_in_terminators[\"score\"]\n",
    "# compartments = [\"Terminator\", \"Gene\", \"Promoter\"]\n",
    "thermo_class = [\"Psychrophiles\", \n",
    "                \"Mesophiles\", \n",
    "                \"Thermophiles\", \n",
    "                \"Hyperthermophiles\"]\n",
    "\n",
    "sns.barplot(\n",
    "        data=total_IR,\n",
    "        x=\"thermo_class\",\n",
    "        y=\"IR_perc\",\n",
    "        hue=\"spacerLength\",\n",
    "        capsize=.2,\n",
    "        ax=ax,\n",
    "        palette=\"viridis\",\n",
    "        order=thermo_class,\n",
    "        # palette={\"terminator\": sns.color_palette(\"Set3\")[2],\n",
    "        #         \"promoter\": sns.color_palette(\"Set3\")[0],\n",
    "        #         \"gene\": sns.color_palette(\"Set3\")[8]\n",
    "        #        },\n",
    "        zorder=3\n",
    ")\n",
    "\n",
    "colors = [cm.viridis(i) for i in np.arange(0.1, 1.1, 0.1)]\n",
    "handles = [mpatches.Patch(color=colors[i], label=str(i)) for i in range(9)]\n",
    "\n",
    "ax.legend(title=\"IR Spacer Length\", \n",
    "          title_fontsize=15, \n",
    "          handles=handles, \n",
    "          prop={\"size\": 15}, \n",
    "          fancybox=True, \n",
    "          frameon=True, \n",
    "          shadow=True, \n",
    "          bbox_to_anchor=(1.01, 1.0))\n",
    "ax.grid(lw=0.4, alpha=0.6, zorder=0)\n",
    "ax.tick_params(axis=\"both\", labelsize=15)\n",
    "ax.tick_params(axis=\"x\", labelsize=19, rotation=10)\n",
    "ax.set_ylabel(\"IR Frequency (%)\")\n",
    "ax.yaxis.label.set_size(19)\n",
    "ax.set_xlabel('')\n",
    "fig.savefig(f\"{dest}/IR_percentage_thermo_class_spacer_length.png\", bbox_inches='tight')"
   ]
  },
  {
   "cell_type": "markdown",
   "id": "db901672-0f9b-42f8-9485-cfd86f2b31f9",
   "metadata": {},
   "source": [
    "## IR Frequency (%) Arm Length Distribution"
   ]
  },
  {
   "cell_type": "code",
   "execution_count": 90,
   "id": "74f90aed-8248-4ebd-95b7-d8b3a720c244",
   "metadata": {},
   "outputs": [
    {
     "data": {
      "text/plain": [
       "PosixPath('tempura_IR_analysis')"
      ]
     },
     "execution_count": 90,
     "metadata": {},
     "output_type": "execute_result"
    }
   ],
   "source": [
    "dest"
   ]
  },
  {
   "cell_type": "code",
   "execution_count": 91,
   "id": "3628b404-ab58-4140-b3c0-d6c4476c1c00",
   "metadata": {},
   "outputs": [
    {
     "data": {
      "image/png": "[encoded data removed]",
      "text/plain": [
       "<Figure size 900x600 with 1 Axes>"
      ]
     },
     "metadata": {},
     "output_type": "display_data"
    }
   ],
   "source": [
    "\n",
    "total_IR_per_class = irp_df_tempura.group_by(\"thermo_class\", maintain_order=True).agg(pl.col(\"start\").count().alias(\"IR_counts_global\"))\n",
    "\n",
    "\n",
    "total_IR = irp_df_tempura.group_by([\"thermo_class\", \"armLength\"], maintain_order=True)\\\n",
    "                .agg(pl.col(\"start\").count().alias(\"IR_counts\"))\\\n",
    "                .join(\n",
    "                        total_IR_per_class,\n",
    "                        how=\"left\",\n",
    "                        on=\"thermo_class\",\n",
    "                )\\\n",
    "                .with_columns(\n",
    "                                (pl.col(\"IR_counts\") * 1e2 / pl.col(\"IR_counts_global\")).alias(\"IR_perc\")\n",
    ")\n",
    "\n",
    "fig, ax = plt.subplots(nrows=1, ncols=1, figsize=(9, 6))\n",
    "thermo_class = [\"Psychrophiles\", \"Mesophiles\", \"Thermophiles\", \"Hyperthermophiles\"]\n",
    "\n",
    "\n",
    "colors = [cm.viridis(i) for i in np.arange(0.1, 1.0, 0.1)]\n",
    "max_arm = 18\n",
    "handles = [mpatches.Patch(color=colors[i], label=str(j)) for i, j in enumerate(range(10, max_arm+1))]\n",
    "\n",
    "sns.barplot(\n",
    "        data=total_IR.filter(pl.col(\"armLength\") <= max_arm),\n",
    "        x=\"thermo_class\",\n",
    "        y=\"IR_perc\",\n",
    "        hue=\"armLength\",\n",
    "        capsize=.2,\n",
    "        ax=ax,\n",
    "        palette=\"viridis\",\n",
    "        order=thermo_class,\n",
    "        # palette={\"terminator\": sns.color_palette(\"Set3\")[2],\n",
    "        #         \"promoter\": sns.color_palette(\"Set3\")[0],\n",
    "        #         \"gene\": sns.color_palette(\"Set3\")[8]\n",
    "        #        },\n",
    "        zorder=3\n",
    ")\n",
    "# ax.axhline(1.0, linestyle='--', lw=1.0, color='black', zorder=5)\n",
    "ax.legend(title=\"IR Arm Length\", \n",
    "          title_fontsize=15, \n",
    "          handles=handles, \n",
    "          prop={\"size\": 15}, \n",
    "          fancybox=True, \n",
    "          frameon=True, \n",
    "          bbox_to_anchor=(1.012, 0.9))\n",
    "ax.grid(lw=0.4, alpha=0.6, zorder=0)\n",
    "ax.tick_params(axis=\"both\", labelsize=15)\n",
    "ax.tick_params(axis=\"x\", labelsize=17, rotation=10)\n",
    "ax.set_ylabel(\"IR Frequency (%)\")\n",
    "ax.yaxis.label.set_size(17)\n",
    "ax.set_xlabel('')\n",
    "fig.savefig(f\"{dest}/IR_percentage_thermo_class_increasing_arm_length.png\", bbox_inches='tight')"
   ]
  },
  {
   "cell_type": "markdown",
   "id": "621c53dd-6e5a-4d06-a5db-50b36ead1d5c",
   "metadata": {},
   "source": [
    "## IR Arm Sequence GC-Enrichment"
   ]
  },
  {
   "cell_type": "code",
   "execution_count": 92,
   "id": "86be7f66-3cf6-4b60-a2fc-1bfd1aef6395",
   "metadata": {},
   "outputs": [
    {
     "data": {
      "text/html": [
       "<div><style>\n",
       ".dataframe > thead > tr,\n",
       ".dataframe > tbody > tr {\n",
       "  text-align: right;\n",
       "  white-space: pre-wrap;\n",
       "}\n",
       "</style>\n",
       "<small>shape: (35_031, 8)</small><table border=\"1\" class=\"dataframe\"><thead><tr><th>#assembly_accession</th><th>spacerLength</th><th>gc_arm_content</th><th>total_arm_length</th><th>gc_percent</th><th>thermo_class</th><th>gc_content_ratio</th><th>gc_arm_enrichment</th></tr><tr><td>str</td><td>i64</td><td>i64</td><td>i64</td><td>f64</td><td>str</td><td>f64</td><td>f64</td></tr></thead><tbody><tr><td>&quot;GCA_000008005.1&quot;</td><td>8</td><td>645</td><td>1924</td><td>0.355</td><td>&quot;Mesophiles&quot;</td><td>0.335239</td><td>0.944335</td></tr><tr><td>&quot;GCA_000008005.1&quot;</td><td>0</td><td>400</td><td>1357</td><td>0.355</td><td>&quot;Mesophiles&quot;</td><td>0.294768</td><td>0.830332</td></tr><tr><td>&quot;GCA_000008005.1&quot;</td><td>3</td><td>645</td><td>1915</td><td>0.355</td><td>&quot;Mesophiles&quot;</td><td>0.336815</td><td>0.948774</td></tr><tr><td>&quot;GCA_000008005.1&quot;</td><td>4</td><td>1108</td><td>3338</td><td>0.355</td><td>&quot;Mesophiles&quot;</td><td>0.331935</td><td>0.935029</td></tr><tr><td>&quot;GCA_000008005.1&quot;</td><td>6</td><td>1041</td><td>3101</td><td>0.355</td><td>&quot;Mesophiles&quot;</td><td>0.335698</td><td>0.945629</td></tr><tr><td>&hellip;</td><td>&hellip;</td><td>&hellip;</td><td>&hellip;</td><td>&hellip;</td><td>&hellip;</td><td>&hellip;</td><td>&hellip;</td></tr><tr><td>&quot;GCF_963692985.1&quot;</td><td>0</td><td>245</td><td>733</td><td>0.36</td><td>&quot;Mesophiles&quot;</td><td>0.334243</td><td>0.928452</td></tr><tr><td>&quot;GCF_963692985.1&quot;</td><td>1</td><td>171</td><td>580</td><td>0.36</td><td>&quot;Mesophiles&quot;</td><td>0.294828</td><td>0.818966</td></tr><tr><td>&quot;GCF_963692985.1&quot;</td><td>4</td><td>403</td><td>1150</td><td>0.36</td><td>&quot;Mesophiles&quot;</td><td>0.350435</td><td>0.97343</td></tr><tr><td>&quot;GCF_963692985.1&quot;</td><td>7</td><td>144</td><td>463</td><td>0.36</td><td>&quot;Mesophiles&quot;</td><td>0.311015</td><td>0.863931</td></tr><tr><td>&quot;GCF_963692985.1&quot;</td><td>6</td><td>176</td><td>529</td><td>0.36</td><td>&quot;Mesophiles&quot;</td><td>0.332703</td><td>0.924176</td></tr></tbody></table></div>"
      ],
      "text/plain": [
       "shape: (35_031, 8)\n",
       "┌────────────┬────────────┬────────────┬───────────┬───────────┬───────────┬───────────┬───────────┐\n",
       "│ #assembly_ ┆ spacerLeng ┆ gc_arm_con ┆ total_arm ┆ gc_percen ┆ thermo_cl ┆ gc_conten ┆ gc_arm_en │\n",
       "│ accession  ┆ th         ┆ tent       ┆ _length   ┆ t         ┆ ass       ┆ t_ratio   ┆ richment  │\n",
       "│ ---        ┆ ---        ┆ ---        ┆ ---       ┆ ---       ┆ ---       ┆ ---       ┆ ---       │\n",
       "│ str        ┆ i64        ┆ i64        ┆ i64       ┆ f64       ┆ str       ┆ f64       ┆ f64       │\n",
       "╞════════════╪════════════╪════════════╪═══════════╪═══════════╪═══════════╪═══════════╪═══════════╡\n",
       "│ GCA_000008 ┆ 8          ┆ 645        ┆ 1924      ┆ 0.355     ┆ Mesophile ┆ 0.335239  ┆ 0.944335  │\n",
       "│ 005.1      ┆            ┆            ┆           ┆           ┆ s         ┆           ┆           │\n",
       "│ GCA_000008 ┆ 0          ┆ 400        ┆ 1357      ┆ 0.355     ┆ Mesophile ┆ 0.294768  ┆ 0.830332  │\n",
       "│ 005.1      ┆            ┆            ┆           ┆           ┆ s         ┆           ┆           │\n",
       "│ GCA_000008 ┆ 3          ┆ 645        ┆ 1915      ┆ 0.355     ┆ Mesophile ┆ 0.336815  ┆ 0.948774  │\n",
       "│ 005.1      ┆            ┆            ┆           ┆           ┆ s         ┆           ┆           │\n",
       "│ GCA_000008 ┆ 4          ┆ 1108       ┆ 3338      ┆ 0.355     ┆ Mesophile ┆ 0.331935  ┆ 0.935029  │\n",
       "│ 005.1      ┆            ┆            ┆           ┆           ┆ s         ┆           ┆           │\n",
       "│ GCA_000008 ┆ 6          ┆ 1041       ┆ 3101      ┆ 0.355     ┆ Mesophile ┆ 0.335698  ┆ 0.945629  │\n",
       "│ 005.1      ┆            ┆            ┆           ┆           ┆ s         ┆           ┆           │\n",
       "│ …          ┆ …          ┆ …          ┆ …         ┆ …         ┆ …         ┆ …         ┆ …         │\n",
       "│ GCF_963692 ┆ 0          ┆ 245        ┆ 733       ┆ 0.36      ┆ Mesophile ┆ 0.334243  ┆ 0.928452  │\n",
       "│ 985.1      ┆            ┆            ┆           ┆           ┆ s         ┆           ┆           │\n",
       "│ GCF_963692 ┆ 1          ┆ 171        ┆ 580       ┆ 0.36      ┆ Mesophile ┆ 0.294828  ┆ 0.818966  │\n",
       "│ 985.1      ┆            ┆            ┆           ┆           ┆ s         ┆           ┆           │\n",
       "│ GCF_963692 ┆ 4          ┆ 403        ┆ 1150      ┆ 0.36      ┆ Mesophile ┆ 0.350435  ┆ 0.97343   │\n",
       "│ 985.1      ┆            ┆            ┆           ┆           ┆ s         ┆           ┆           │\n",
       "│ GCF_963692 ┆ 7          ┆ 144        ┆ 463       ┆ 0.36      ┆ Mesophile ┆ 0.311015  ┆ 0.863931  │\n",
       "│ 985.1      ┆            ┆            ┆           ┆           ┆ s         ┆           ┆           │\n",
       "│ GCF_963692 ┆ 6          ┆ 176        ┆ 529       ┆ 0.36      ┆ Mesophile ┆ 0.332703  ┆ 0.924176  │\n",
       "│ 985.1      ┆            ┆            ┆           ┆           ┆ s         ┆           ┆           │\n",
       "└────────────┴────────────┴────────────┴───────────┴───────────┴───────────┴───────────┴───────────┘"
      ]
     },
     "execution_count": 92,
     "metadata": {},
     "output_type": "execute_result"
    }
   ],
   "source": [
    "total_IR_per_class = irp_df_tempura\\\n",
    "            .with_columns(\n",
    "                    pl.col(\"gc_percent\") / 1e2\n",
    "            )\n",
    "\n",
    "total_IR_per_class = total_IR_per_class\\\n",
    "            .with_columns(\n",
    "                    pl.col(\"sequenceOfArm\").map_elements(lambda seq: seq.count(\"g\") + seq.count(\"c\"),\n",
    "                                                         return_dtype=int)\n",
    "                    .alias(\"gc_arm_content\"),\n",
    "            )\\\n",
    "            .group_by([\"#assembly_accession\", \"spacerLength\"], \n",
    "                      maintain_order=True)\\\n",
    "                                  .agg(\n",
    "                                      pl.col(\"gc_arm_content\").sum(),\n",
    "                                      pl.col(\"armLength\").sum().alias(\"total_arm_length\"),\n",
    "                                      pl.col(\"gc_percent\").first(),\n",
    "                                      pl.col(\"thermo_class\").first()\n",
    "                                    )\\\n",
    "            .with_columns(\n",
    "                        ((pl.col(\"gc_arm_content\") / pl.col(\"total_arm_length\")).alias(\"gc_content_ratio\")\n",
    "                        )\n",
    "            )\\\n",
    "            .with_columns(\n",
    "                       ( pl.col(\"gc_content_ratio\") / pl.col(\"gc_percent\"))\n",
    "                    .alias(\"gc_arm_enrichment\")\n",
    "            )\n",
    "\n",
    "total_IR_per_class"
   ]
  },
  {
   "cell_type": "code",
   "execution_count": 93,
   "id": "73f4b5ca-bc26-4e42-9fa2-e9cd3022dbd7",
   "metadata": {},
   "outputs": [
    {
     "name": "stderr",
     "output_type": "stream",
     "text": [
      "/tmp/ipykernel_2705486/1684865589.py:23: MatplotlibDeprecationWarning: The get_cmap function was deprecated in Matplotlib 3.7 and will be removed in 3.11. Use ``matplotlib.colormaps[name]`` or ``matplotlib.colormaps.get_cmap()`` or ``pyplot.get_cmap()`` instead.\n",
      "  colors = [cm.get_cmap(\"Spectral\", lut=None).reversed()(i) for i in np.arange(0.1, 1.1, 0.1)]\n"
     ]
    },
    {
     "data": {
      "image/png": "[encoded data removed]",
      "text/plain": [
       "<Figure size 1000x500 with 1 Axes>"
      ]
     },
     "metadata": {},
     "output_type": "display_data"
    }
   ],
   "source": [
    "fig, ax = plt.subplots(nrows=1, ncols=1, figsize=(10, 5))\n",
    "thermo_class = [\"Psychrophiles\", \"Mesophiles\", \"Thermophiles\", \"Hyperthermophiles\"]\n",
    "\n",
    "sns.barplot(\n",
    "        data=total_IR_per_class,\n",
    "        x=\"thermo_class\",\n",
    "        y=\"gc_arm_enrichment\",\n",
    "        hue=\"spacerLength\",\n",
    "        capsize=.2,\n",
    "        ax=ax,\n",
    "        hue_order=list(range(9)),\n",
    "        palette=\"Spectral_r\",\n",
    "        order=thermo_class,\n",
    "        # palette={\"terminator\": sns.color_palette(\"Set3\")[2],\n",
    "        #         \"promoter\": sns.color_palette(\"Set3\")[0],\n",
    "        #         \"gene\": sns.color_palette(\"Set3\")[8]\n",
    "        #        },\n",
    "        zorder=3\n",
    ")\n",
    "\n",
    "\n",
    "\n",
    "colors = [cm.get_cmap(\"Spectral\", lut=None).reversed()(i) for i in np.arange(0.1, 1.1, 0.1)]\n",
    "handles = [mpatches.Patch(color=colors[i], label=str(i)) for i in range(9)]\n",
    "\n",
    "ax.axhline(1.0, linestyle='--', lw=2.0, color='black', zorder=5)\n",
    "ax.legend(title=\"IR Spacer Length\", handles=handles, prop={\"size\": 15}, fancybox=True, frameon=True, \n",
    "          title_fontsize=16, bbox_to_anchor=(1.01, 1.0))\n",
    "ax.grid(lw=0.4, alpha=0.6, zorder=0)\n",
    "ax.tick_params(axis=\"both\", labelsize=15)\n",
    "ax.tick_params(axis=\"x\", labelsize=16, rotation=10)\n",
    "ax.set_ylabel(\"IR Arm GC-Enrichment\")\n",
    "ax.yaxis.label.set_size(17)\n",
    "ax.set_xlabel('')\n",
    "fig.savefig(f\"{dest}/IR_GC_enrichment_arm_thermo_class_avg.png\", bbox_inches='tight')"
   ]
  },
  {
   "cell_type": "markdown",
   "id": "5c7e73e5-e067-4659-a615-988ac70f696c",
   "metadata": {},
   "source": [
    "## GC Spacer Sequence Enrichment"
   ]
  },
  {
   "cell_type": "code",
   "execution_count": 94,
   "id": "1d3ac1bf-e665-4f48-b841-578b463de554",
   "metadata": {},
   "outputs": [
    {
     "name": "stderr",
     "output_type": "stream",
     "text": [
      "/tmp/ipykernel_2705486/3958399115.py:46: MatplotlibDeprecationWarning: The get_cmap function was deprecated in Matplotlib 3.7 and will be removed in 3.11. Use ``matplotlib.colormaps[name]`` or ``matplotlib.colormaps.get_cmap()`` or ``pyplot.get_cmap()`` instead.\n",
      "  colors = [cm.get_cmap(\"Spectral\", lut=None).reversed()(i) for i in np.arange(0.1, 1.1, 0.1)]\n"
     ]
    },
    {
     "data": {
      "image/png": "[encoded data removed]",
      "text/plain": [
       "<Figure size 1000x500 with 1 Axes>"
      ]
     },
     "metadata": {},
     "output_type": "display_data"
    }
   ],
   "source": [
    "total_IR_per_class = irp_df_tempura\\\n",
    "            .with_columns(\n",
    "                    pl.col(\"gc_percent\") / 1e2\n",
    "            )\n",
    "\n",
    "total_IR_per_class = total_IR_per_class\\\n",
    "            .with_columns(\n",
    "                    pl.col(\"sequenceOfSpacer\").map_elements(lambda seq: seq.count(\"g\") + seq.count(\"c\"),\n",
    "                                                         return_dtype=int)\n",
    "                    .alias(\"gc_spacer_content\"),\n",
    "            )\\\n",
    "            .group_by([\"#assembly_accession\", \"spacerLength\"], \n",
    "                      maintain_order=True)\\\n",
    "                                  .agg(\n",
    "                                      pl.col(\"gc_spacer_content\").sum(),\n",
    "                                      pl.col(\"spacerLength\").sum().alias(\"total_spacer_length\"),\n",
    "                                      pl.col(\"gc_percent\").first(),\n",
    "                                      pl.col(\"thermo_class\").first()\n",
    "                                    )\\\n",
    "            .with_columns(\n",
    "                        ((pl.col(\"gc_spacer_content\") / pl.col(\"total_spacer_length\")).alias(\"gc_content_ratio\")\n",
    "                        )\n",
    "            )\\\n",
    "            .with_columns(\n",
    "                       ( pl.col(\"gc_content_ratio\") / pl.col(\"gc_percent\"))\n",
    "                    .alias(\"gc_spacer_enrichment\")\n",
    "            )\n",
    "                        \n",
    "\n",
    "fig, ax = plt.subplots(nrows=1, ncols=1, figsize=(10, 5))\n",
    "thermo_class = [\"Psychrophiles\", \"Mesophiles\", \"Thermophiles\", \"Hyperthermophiles\"]\n",
    "\n",
    "sns.barplot(\n",
    "        data=total_IR_per_class,\n",
    "        x=\"thermo_class\",\n",
    "        y=\"gc_spacer_enrichment\",\n",
    "        hue=\"spacerLength\",\n",
    "        capsize=.2,\n",
    "        ax=ax,\n",
    "        palette=\"Spectral_r\",\n",
    "        order=thermo_class,\n",
    "        hue_order=list(range(9)),\n",
    "        zorder=3\n",
    ")\n",
    "\n",
    "colors = [cm.get_cmap(\"Spectral\", lut=None).reversed()(i) for i in np.arange(0.1, 1.1, 0.1)]\n",
    "handles = [mpatches.Patch(color=colors[i], label=str(i)) for i in range(9)]\n",
    "\n",
    "ax.axhline(1.0, linestyle='--', lw=2.0, color='black', zorder=5)\n",
    "ax.legend(title=\"IR Spacer Length\", \n",
    "          title_fontsize=16,\n",
    "          handles=handles, \n",
    "          prop={\"size\": 15}, \n",
    "          fancybox=True, \n",
    "          frameon=True,\n",
    "          shadow=True, \n",
    "          bbox_to_anchor=(1.01, 1.0))\n",
    "ax.grid(lw=0.4, alpha=0.6, zorder=0)\n",
    "ax.tick_params(axis=\"both\", labelsize=15)\n",
    "ax.tick_params(axis=\"x\", labelsize=16, rotation=10)\n",
    "ax.set_ylabel(\"IR Spacer GC-Enrichment\")\n",
    "ax.yaxis.label.set_size(16)\n",
    "ax.set_xlabel('')\n",
    "fig.savefig(f\"{dest}/IR_GC_enrichment_spacer_thermo_class_avg.png\", bbox_inches='tight')"
   ]
  },
  {
   "cell_type": "code",
   "execution_count": 95,
   "id": "8d4203e1-9dad-455b-ba68-d21677426d67",
   "metadata": {},
   "outputs": [
    {
     "data": {
      "text/html": [
       "<div><style>\n",
       ".dataframe > thead > tr,\n",
       ".dataframe > tbody > tr {\n",
       "  text-align: right;\n",
       "  white-space: pre-wrap;\n",
       "}\n",
       "</style>\n",
       "<small>shape: (4, 2)</small><table border=\"1\" class=\"dataframe\"><thead><tr><th>thermo_class</th><th>count</th></tr><tr><td>str</td><td>u32</td></tr></thead><tbody><tr><td>&quot;Hyperthermophiles&quot;</td><td>15</td></tr><tr><td>&quot;Thermophiles&quot;</td><td>260</td></tr><tr><td>&quot;Mesophiles&quot;</td><td>3563</td></tr><tr><td>&quot;Psychrophiles&quot;</td><td>55</td></tr></tbody></table></div>"
      ],
      "text/plain": [
       "shape: (4, 2)\n",
       "┌───────────────────┬───────┐\n",
       "│ thermo_class      ┆ count │\n",
       "│ ---               ┆ ---   │\n",
       "│ str               ┆ u32   │\n",
       "╞═══════════════════╪═══════╡\n",
       "│ Hyperthermophiles ┆ 15    │\n",
       "│ Thermophiles      ┆ 260   │\n",
       "│ Mesophiles        ┆ 3563  │\n",
       "│ Psychrophiles     ┆ 55    │\n",
       "└───────────────────┴───────┘"
      ]
     },
     "execution_count": 95,
     "metadata": {},
     "output_type": "execute_result"
    }
   ],
   "source": [
    "irp_df_tempura.unique([\"#assembly_accession\"])[\"thermo_class\"].value_counts()"
   ]
  },
  {
   "cell_type": "code",
   "execution_count": 96,
   "id": "ad0b6434-1b99-4c97-bb09-f16946522775",
   "metadata": {},
   "outputs": [
    {
     "data": {
      "text/html": [
       "<div><style>\n",
       ".dataframe > thead > tr,\n",
       ".dataframe > tbody > tr {\n",
       "  text-align: right;\n",
       "  white-space: pre-wrap;\n",
       "}\n",
       "</style>\n",
       "<small>shape: (4, 4)</small><table border=\"1\" class=\"dataframe\"><thead><tr><th>thermo_class</th><th>armLength_max</th><th>armLength_min</th><th>spacerLength</th></tr><tr><td>str</td><td>i64</td><td>i64</td><td>i64</td></tr></thead><tbody><tr><td>&quot;Mesophiles&quot;</td><td>15727</td><td>10</td><td>8</td></tr><tr><td>&quot;Thermophiles&quot;</td><td>62</td><td>10</td><td>8</td></tr><tr><td>&quot;Psychrophiles&quot;</td><td>44</td><td>10</td><td>8</td></tr><tr><td>&quot;Hyperthermophiles&quot;</td><td>22</td><td>10</td><td>8</td></tr></tbody></table></div>"
      ],
      "text/plain": [
       "shape: (4, 4)\n",
       "┌───────────────────┬───────────────┬───────────────┬──────────────┐\n",
       "│ thermo_class      ┆ armLength_max ┆ armLength_min ┆ spacerLength │\n",
       "│ ---               ┆ ---           ┆ ---           ┆ ---          │\n",
       "│ str               ┆ i64           ┆ i64           ┆ i64          │\n",
       "╞═══════════════════╪═══════════════╪═══════════════╪══════════════╡\n",
       "│ Mesophiles        ┆ 15727         ┆ 10            ┆ 8            │\n",
       "│ Thermophiles      ┆ 62            ┆ 10            ┆ 8            │\n",
       "│ Psychrophiles     ┆ 44            ┆ 10            ┆ 8            │\n",
       "│ Hyperthermophiles ┆ 22            ┆ 10            ┆ 8            │\n",
       "└───────────────────┴───────────────┴───────────────┴──────────────┘"
      ]
     },
     "execution_count": 96,
     "metadata": {},
     "output_type": "execute_result"
    }
   ],
   "source": [
    "irp_df_tempura.group_by(\"thermo_class\", maintain_order=True)\\\n",
    "                .agg(\n",
    "                            pl.col(\"armLength\").max().alias(\"armLength_max\"),\n",
    "                            pl.col(\"armLength\").min().alias(\"armLength_min\"),\n",
    "                            pl.col(\"spacerLength\").max()\n",
    "                )"
   ]
  },
  {
   "cell_type": "code",
   "execution_count": 97,
   "id": "4316f92d-543a-414f-8c56-325da1781f0d",
   "metadata": {},
   "outputs": [
    {
     "data": {
      "text/plain": [
       "0"
      ]
     },
     "execution_count": 97,
     "metadata": {},
     "output_type": "execute_result"
    }
   ],
   "source": [
    "tempura_DB_merged[\"#assembly_accession\"].is_null().sum()"
   ]
  },
  {
   "cell_type": "code",
   "execution_count": 98,
   "id": "e01c6f31-0a45-4b6d-a5ee-1a17552cb0d4",
   "metadata": {},
   "outputs": [
    {
     "data": {
      "text/plain": [
       "(1, 3893)"
      ]
     },
     "execution_count": 98,
     "metadata": {},
     "output_type": "execute_result"
    }
   ],
   "source": [
    "# all_accessions = set(tempura_DB_merged[\"#assembly_accession\"])\n",
    "non_empty_accessions = set(irp_df_tempura.unique([\"#assembly_accession\"])[\"#assembly_accession\"])\n",
    "\n",
    "empty_accessions = set(mutual_DB_accessions_with_TEMPURA) - non_empty_accessions\n",
    "len(empty_accessions), len(non_empty_accessions)"
   ]
  },
  {
   "cell_type": "code",
   "execution_count": 99,
   "id": "336f67a8",
   "metadata": {},
   "outputs": [
    {
     "data": {
      "text/plain": [
       "{'GCA_036812565.1'}"
      ]
     },
     "execution_count": 99,
     "metadata": {},
     "output_type": "execute_result"
    }
   ],
   "source": [
    "empty_accessions"
   ]
  },
  {
   "cell_type": "markdown",
   "id": "ea9b2270-b3b1-4dd7-9605-dbb434a4d87b",
   "metadata": {},
   "source": [
    "## IR Occurrences as function of GC-Content of the Arm"
   ]
  },
  {
   "cell_type": "code",
   "execution_count": null,
   "id": "9ca77848-7d5f-47cd-8b75-3b535b1b1f48",
   "metadata": {},
   "outputs": [],
   "source": [
    "irp_df_tempura = irp_df_tempura.with_columns(\n",
    "                                pl.col(\"sequenceOfArm\").str.to_lowercase()\n",
    "                                        .map_elements(lambda seq: (seq.count(\"g\") + seq.count(\"c\")) / len(seq), return_dtype=float)\n",
    "                                        .alias(\"gc_arm\")\n",
    ")\n",
    "irp_df_tempura"
   ]
  },
  {
   "cell_type": "code",
   "execution_count": null,
   "id": "c167fb4c-4eff-4cdd-a10c-41a4a505be1d",
   "metadata": {},
   "outputs": [],
   "source": [
    "counts_per_thermo_class = irp_df_tempura\\\n",
    "                    .group_by(\"thermo_class\", maintain_order=True)\\\n",
    "                    .agg(\n",
    "                        pl.col(\"start\")\\\n",
    "                        .count()\\\n",
    "                        .alias(\"total_counts\")\n",
    "                    )\n",
    "counts_per_thermo_class = dict(zip(counts_per_thermo_class[\"thermo_class\"], \n",
    "                                   counts_per_thermo_class[\"total_counts\"]))\n",
    "counts_per_thermo_class"
   ]
  },
  {
   "cell_type": "markdown",
   "id": "492207c4-1006-4622-b0e9-eb89fd44e2d0",
   "metadata": {},
   "source": [
    "## Calculating Genome Sizes"
   ]
  },
  {
   "cell_type": "code",
   "execution_count": null,
   "id": "46e6552f-0ca6-43c4-865b-0d903b9d6318",
   "metadata": {},
   "outputs": [],
   "source": [
    "counts = defaultdict(list)\n",
    "IR_counts_collection = []\n",
    "\n",
    "step = 0.05\n",
    "thresholds = np.arange(0.0, 1 + step, step)\n",
    "\n",
    "for threshold in thresholds:\n",
    "    IR_counts = irp_df_tempura.filter(pl.col(\"gc_arm\") >= threshold)\\\n",
    "                                .group_by(\"#assembly_accession\", maintain_order=True)\\\n",
    "                                .agg(\n",
    "                                        pl.col(\"start\").count().alias(\"IR_counts\"),\n",
    "                                        pl.col(\"genome_size\").first().alias(\"Genome Size\"),\n",
    "                                        pl.col(\"thermo_class\").first()\n",
    "                                )\\\n",
    "                                .with_columns(\n",
    "                                        ( 1e6 * pl.col(\"IR_counts\") / pl.col(\"Genome Size\") ).alias(\"IR Density\")\n",
    "                                )\n",
    "    \n",
    "    bounded_non_empty = set(IR_counts.unique(\"#assembly_accession\")[\"#assembly_accession\"])\n",
    "\n",
    "    # create new empty list on GC Threshold (strict)\n",
    "    bounded_new_empty = set(mutual_DB_accessions_with_TEMPURA) - bounded_non_empty\n",
    "    print(f\"Total empty accessions for GC threshold {threshold:.2f}: {len(bounded_new_empty)}\")\n",
    "\n",
    "    empty_assemblies_df = pl.DataFrame({\"#assembly_accession\": list(bounded_new_empty)})\\\n",
    "                            .join(\n",
    "                                    tempura_DB_merged.select([\"#assembly_accession\", \"genome_size\", \"thermo_class\"]),\n",
    "                                    on=\"#assembly_accession\"\n",
    "                            )\\\n",
    "                            .with_columns(\n",
    "                                pl.lit(0).alias(\"IR Density\").cast(pl.Float64),\n",
    "                                pl.lit(0).alias(\"IR_counts\").cast(pl.UInt32),\n",
    "                                pl.col(\"genome_size\").alias(\"Genome Size\"),\n",
    "                            )\\\n",
    "                            .select([\"#assembly_accession\", \n",
    "                                     \"IR_counts\", \n",
    "                                     \"Genome Size\", \n",
    "                                     \"thermo_class\", \n",
    "                                     \"IR Density\"])\n",
    "    \n",
    "    IR_counts_merged = pl.concat([IR_counts, empty_assemblies_df])\\\n",
    "                        .group_by(\"thermo_class\", maintain_order=True)\\\n",
    "                        .agg(\n",
    "                                pl.col(\"IR Density\").mean().alias(\"avg_IR_density\"),\n",
    "                                pl.col(\"IR Density\").std().alias(\"std_IR_density\"),\n",
    "                        )\\\n",
    "                        .with_columns(\n",
    "                                pl.lit(threshold).alias(\"GC Threshold\")\n",
    "                        )\n",
    "\n",
    "    IR_counts_collection.append(IR_counts_merged)\n",
    "  \n",
    "IR_counts_collection = pl.concat(IR_counts_collection, how=\"vertical\")\n",
    "IR_counts_collection"
   ]
  },
  {
   "cell_type": "code",
   "execution_count": null,
   "id": "eda82d25-e921-40f8-9487-4868b0bd2322",
   "metadata": {},
   "outputs": [],
   "source": [
    "order = [\n",
    "      \"Psychrophiles\",\n",
    "      \"Mesophiles\",\n",
    "      \"Thermophiles\",\n",
    "      \"Hyperthermophiles\",\n",
    "]\n",
    "\n",
    "palette = {\n",
    "        \"Psychrophiles\": sns.color_palette(\"Set3\")[4], \n",
    "         \"Mesophiles\": sns.color_palette(\"Set3\")[2],\n",
    "         \"Thermophiles\": sns.color_palette(\"Set3\")[-1], \n",
    "         \"Hyperthermophiles\": sns.color_palette(\"Set3\")[3],\n",
    "}"
   ]
  },
  {
   "cell_type": "code",
   "execution_count": null,
   "id": "2191edef-5c84-49de-b91b-688d91e0335a",
   "metadata": {},
   "outputs": [],
   "source": [
    "fig, ax = plt.subplots(nrows=1, ncols=1, figsize=(12, 6))\n",
    "\n",
    "sns.lineplot(data=IR_counts_collection.to_pandas(),\n",
    "             x=\"GC Threshold\",\n",
    "             y=\"avg_IR_density\",\n",
    "             hue=\"thermo_class\",\n",
    "            ax=ax,\n",
    "             palette=palette,\n",
    "            linewidth=4.0,\n",
    "    )\n",
    "handles = [mpatches.Patch(color=palette[label], label=label) for label in order]\n",
    "ax.grid(lw=0.4, alpha=0.6, zorder=0)\n",
    "ax.legend(loc=0, handles=handles, title=\"\", prop={\"size\": 15})\n",
    "ax.set_xlabel(\"IR Arm GC Threshold\")\n",
    "ax.set_ylabel(\"IR Density\")\n",
    "ax.xaxis.label.set_size(18)\n",
    "ax.yaxis.label.set_size(18)\n",
    "ax.tick_params(axis=\"both\", labelsize=16)\n",
    "ax.set_xlim(xmin=0.0, xmax=1.0)\n",
    "ax.set_ylim(ymin=0.0)\n",
    "0.0\n",
    "fig.savefig(f\"{dest}/rolling_IR_density_gc_content_arm\", bbox_inches=\"tight\")"
   ]
  },
  {
   "cell_type": "markdown",
   "id": "6da9a10e-84d4-4b04-811f-41473d336a85",
   "metadata": {},
   "source": [
    "### Integrate with empty accessions"
   ]
  },
  {
   "cell_type": "code",
   "execution_count": null,
   "id": "84ca8fd4",
   "metadata": {},
   "outputs": [],
   "source": [
    "len(TEMPURA_accessions_without_IR)"
   ]
  },
  {
   "cell_type": "code",
   "execution_count": null,
   "id": "94286a59-bc5a-49bf-8ad8-cbeb6adeb1d5",
   "metadata": {},
   "outputs": [],
   "source": [
    "empty_assemblies_df = pl.DataFrame({\"#assembly_accession\": list(TEMPURA_accessions_without_IR)})\\\n",
    "                        .join(\n",
    "                                tempura_DB_merged.select([\"#assembly_accession\", \"genome_size\", \"thermo_class\"]),\n",
    "                                on=\"#assembly_accession\"\n",
    "                        )\\\n",
    "                        .with_columns(\n",
    "                            pl.lit(0).alias(\"IR Density\").cast(pl.Float64),\n",
    "                            pl.lit(0).alias(\"IR_counts\").cast(pl.UInt32),\n",
    "                            pl.col(\"genome_size\").alias(\"Genome Size\"),\n",
    "                        )\\\n",
    "                        .select([\"#assembly_accession\", \n",
    "                                 \"IR_counts\", \n",
    "                                 \"Genome Size\", \n",
    "                                 \"thermo_class\", \n",
    "                                 \"IR Density\"\n",
    "                                ])\n",
    "empty_assemblies_df"
   ]
  },
  {
   "cell_type": "code",
   "execution_count": null,
   "id": "a2c5aca7-683c-454e-add8-8b413868c07e",
   "metadata": {},
   "outputs": [],
   "source": [
    "IR_counts.unique(\"thermo_class\")"
   ]
  },
  {
   "cell_type": "code",
   "execution_count": null,
   "id": "6196fd29-0b86-4547-8ec1-a7e127411e4c",
   "metadata": {},
   "outputs": [],
   "source": [
    "# merge with empty\n",
    "\n",
    "IR_counts = irp_df_tempura.group_by(\"#assembly_accession\", maintain_order=True)\\\n",
    "                        .agg(\n",
    "                                    pl.col(\"start\").count().alias(\"IR_counts\"),\n",
    "                                    pl.col(\"genome_size\").first().alias(\"Genome Size\"),\n",
    "                                    pl.col(\"thermo_class\").first(),\n",
    "                        )\\\n",
    "                        .with_columns(\n",
    "                                        (1e6 * pl.col(\"IR_counts\") / pl.col(\"Genome Size\")).alias(\"IR Density\")\n",
    "                        )\n",
    "IR_counts_merged = pl.concat([IR_counts, empty_assemblies_df])\n",
    "\n",
    "IR_counts_grouped = IR_counts_merged\\\n",
    "                .group_by(\"thermo_class\", maintain_order=True)\\\n",
    "                .agg(\n",
    "                    pl.col(\"IR Density\").count().alias(\"Total Organismal Genomes\"),\n",
    "                    pl.col(\"IR Density\").mean().round(2).alias(\"Average IR Density\"),\n",
    "                    pl.col(\"IR Density\").median().round(2).alias(\"Median IR Density\"),\n",
    "                    pl.col(\"IR Density\").quantile(0.95).round(2).alias(\"95 Percentile\"),\n",
    "                    pl.col(\"IR Density\").quantile(0.05).round(2).alias(\"5 Percentile\"),\n",
    "                ).rename({\"thermo_class\": \"Temperature Class\"})\n",
    "IR_counts_grouped"
   ]
  },
  {
   "cell_type": "code",
   "execution_count": null,
   "id": "eff90fbd-ed1f-44c2-9f6d-fd463bc5437c",
   "metadata": {},
   "outputs": [],
   "source": [
    "IR_counts_merged.write_csv(\"IR_densities_temperature_classes.csv\", separator=\"\\t\")"
   ]
  },
  {
   "cell_type": "code",
   "execution_count": null,
   "id": "fe01160f-16c0-4024-bb5e-836d50e7b0ff",
   "metadata": {},
   "outputs": [],
   "source": [
    "IR_counts_merged.group_by(\"thermo_class\").agg(pl.col(\"IR Density\").count().alias(\"counts\"))"
   ]
  },
  {
   "cell_type": "code",
   "execution_count": null,
   "id": "1ce74167-7755-45bf-a3b0-59fa837e8005",
   "metadata": {},
   "outputs": [],
   "source": [
    "IR_counts_merged.shape"
   ]
  },
  {
   "cell_type": "code",
   "execution_count": null,
   "id": "d6d05731-4b09-4deb-b546-fee81b5d7ecc",
   "metadata": {},
   "outputs": [],
   "source": [
    "IR_counts_merged.filter(pl.col(\"IR_counts\") == 0).group_by(\"thermo_class\").agg(pl.col(\"IR Density\").count().alias(\"counts\"))"
   ]
  },
  {
   "cell_type": "code",
   "execution_count": null,
   "id": "90096831-56b1-4a70-be10-d47def586f1e",
   "metadata": {
    "scrolled": true
   },
   "outputs": [],
   "source": [
    "import matplotlib.patches as mpatches\n",
    "from statannotations.Annotator import Annotator\n",
    "\n",
    "\n",
    "fig, ax = plt.subplots(nrows=1, ncols=1, figsize=(9, 5))\n",
    "\n",
    "order = [\n",
    "      \"Psychrophiles\",\n",
    "      \"Mesophiles\",\n",
    "      \"Thermophiles\",\n",
    "      \"Hyperthermophiles\",\n",
    "]\n",
    "\n",
    "sns.boxplot(data=IR_counts_merged,\n",
    "             x=\"thermo_class\",\n",
    "             y=\"IR Density\",\n",
    "             hue=\"thermo_class\",\n",
    "            ax=ax,\n",
    "            showfliers=False,\n",
    "            width=0.9,\n",
    "            palette=palette,\n",
    "            # yerr=counts_df[\"symmetric_error\"],\n",
    "            # color=\"black\",\n",
    "            # linewidth=3.0,\n",
    "            order=order,\n",
    "    )\n",
    "pairs = [\n",
    "         (\"Psychrophiles\", \"Thermophiles\"), \n",
    "         (\"Psychrophiles\", \"Mesophiles\"),\n",
    "         (\"Psychrophiles\", \"Hyperthermophiles\"),\n",
    "         (\"Mesophiles\", \"Thermophiles\"),\n",
    "         (\"Mesophiles\", \"Hyperthermophiles\"),\n",
    "         (\"Thermophiles\", \"Hyperthermophiles\")\n",
    "]\n",
    "        \n",
    "annotator = Annotator(ax, \n",
    "                      pairs=pairs, \n",
    "                      data=IR_counts_merged.to_pandas(), \n",
    "                      x=\"thermo_class\",\n",
    "                      hue=\"thermo_class\", \n",
    "                      y=\"IR Density\", \n",
    "                      order=order,\n",
    "                      # hue_order=hue_order,\n",
    "                     )\n",
    "annotator.configure(test='t-test_ind', \n",
    "                    text_format='star',\n",
    "                    fontsize=12, \n",
    "                    line_offset=0.0,\n",
    "                    comparisons_correction=\"fdr_bh\",\n",
    "                    loc='outside')\n",
    "\n",
    "ax.tick_params(axis=\"x\", rotation=10, labelsize=17)\n",
    "annotator.apply_and_annotate()\n",
    "handles = [mpatches.Patch(color=palette[label], label=label) for label in order]\n",
    "ax.grid(lw=0.4, alpha=0.6, zorder=0)\n",
    "ax.legend(loc=0, handles=handles, title=\"\", prop={\"size\": 15})\n",
    "ax.legend(handles=[], frameon=False)\n",
    "ax.xaxis.label.set_size(18)\n",
    "ax.yaxis.label.set_size(19)\n",
    "ax.tick_params(axis=\"both\", labelsize=16)\n",
    "ax.tick_params(axis=\"x\", labelsize=19, rotation=10)\n",
    "\n",
    "ax.set_xlabel('')\n",
    "fig.savefig(f\"{dest}/thermo_class_IR_density_boxplot.png\", bbox_inches=\"tight\")"
   ]
  },
  {
   "cell_type": "markdown",
   "id": "e9c2aead-3894-4610-a0bb-0938706b0276",
   "metadata": {},
   "source": [
    "#### Anova Comparisons of IR Hairpin Densities across Temperature Classes"
   ]
  },
  {
   "cell_type": "code",
   "execution_count": null,
   "id": "9ffd577b-c846-46c8-9733-19161c536d5c",
   "metadata": {},
   "outputs": [],
   "source": [
    "IR_counts_merged.head()"
   ]
  },
  {
   "cell_type": "code",
   "execution_count": null,
   "id": "851872b7-cdb3-4438-b0a6-8209917e10d0",
   "metadata": {},
   "outputs": [],
   "source": [
    "IR_counts_merged.filter(pl.col(\"IR_counts\") == 0)[\"thermo_class\"].value_counts()"
   ]
  },
  {
   "cell_type": "code",
   "execution_count": null,
   "id": "a8f8d30a-f097-4d7b-bbc7-b5e471d2f6ef",
   "metadata": {},
   "outputs": [],
   "source": [
    "from scipy.stats import f_oneway, kruskal\n",
    "\n",
    "thermo_classes = list(IR_counts_merged.unique(\"thermo_class\")[\"thermo_class\"])\n",
    "print(f\"Total Temperature Classes from Tempura DB: {len(thermo_classes)}.\")\n",
    "\n",
    "\n",
    "samples_IR_densities_thermo_anova = []\n",
    "for thermo_class in thermo_classes:\n",
    "    print(thermo_class)\n",
    "    IR_densities = list(IR_counts_merged.filter(pl.col(\"thermo_class\") == thermo_class)[\"IR Density\"])\n",
    "    samples_IR_densities_thermo_anova.append(IR_densities)\n",
    "    \n",
    "print(f\"\\nTotal Temperature Classes for ANOVA: {len(samples_IR_densities_thermo_anova)}.\\n\")\n",
    "\n",
    "anova = f_oneway(*samples_IR_densities_thermo_anova, nan_policy=\"raise\")\n",
    "print(f\"One Way ANOVA comparison of Hairpin IR Densities across Temperature Classes:\\n{anova}\", end=\"\\n\" * 2)\n",
    "\n",
    "kruskal_test = kruskal(*samples_IR_densities_thermo_anova, nan_policy=\"raise\")\n",
    "print(f\"KRUSAL comparison of Hairpin IR Densities across Temperature Classes:\\n{kruskal_test}.\")"
   ]
  },
  {
   "cell_type": "markdown",
   "id": "9d2ea49a-ced1-437c-aaae-d04c00b0d366",
   "metadata": {},
   "source": [
    "## Percentage of IR counts"
   ]
  },
  {
   "cell_type": "code",
   "execution_count": null,
   "id": "0bede401-9814-43fc-a9f0-13ffeafd3467",
   "metadata": {},
   "outputs": [],
   "source": [
    "irp_df_tempura.head()"
   ]
  },
  {
   "cell_type": "code",
   "execution_count": null,
   "id": "4014a2d2-7841-4d92-8fac-1c5de73a8832",
   "metadata": {},
   "outputs": [],
   "source": [
    "from collections import defaultdict\n",
    "counts = defaultdict(list)\n",
    "\n",
    "irp_df_tempura = irp_df_tempura.with_columns(\n",
    "        pl.col(\"sequenceOfArm\").map_elements(lambda seq: (seq.count('g') + seq.count('c'))/len(seq),\n",
    "                                                                                  return_dtype=float).alias(\"gc_arm\")\n",
    "                                            )\n",
    "\n",
    "for threshold in tqdm(np.arange(0.0, 1.1, 0.02)):\n",
    "    \n",
    "    IR_counts = irp_df_tempura.filter(pl.col(\"gc_arm\") >= threshold)[\"thermo_class\"].value_counts()\n",
    "    IR_counts = dict(zip(IR_counts[\"thermo_class\"], IR_counts[\"count\"]))\n",
    "    \n",
    "    for c, total_counts in IR_counts.items():\n",
    "        counts[\"threshold\"].append(threshold)\n",
    "        counts[\"thermo_class\"].append(c)\n",
    "        counts[\"counts\"].append(total_counts)\n",
    "        counts[\"total\"].append(counts_per_thermo_class[c])\n",
    "        \n",
    "counts_df  = pl.DataFrame(counts)\\\n",
    "            .with_columns(\n",
    "                        (1e2 * pl.col(\"counts\") / pl.col(\"total\")).alias(\"IR_perc\")\n",
    "            )\n",
    "counts_df"
   ]
  },
  {
   "cell_type": "code",
   "execution_count": null,
   "id": "886522d1-0908-4c42-ba41-93a4a74d00f7",
   "metadata": {},
   "outputs": [],
   "source": [
    "fig, ax = plt.subplots(nrows=1, ncols=1, figsize=(17, 7))\n",
    "\n",
    "sns.lineplot(data=counts_df.to_pandas(),\n",
    "             x=\"threshold\",\n",
    "             y=\"IR_perc\",\n",
    "             hue=\"thermo_class\",\n",
    "             palette=palette,\n",
    "             zorder=3,\n",
    "             lw=4.3,\n",
    "             ax=ax\n",
    "            )\n",
    "handles = [mpatches.Patch(color=palette[label], label=label) for label in order]\n",
    "ax.grid(lw=0.4, alpha=0.6, zorder=0)\n",
    "ax.tick_params(axis=\"both\", labelsize=20, zorder=0)\n",
    "ax.legend(handles=handles, loc=0, title=\"\", prop={\"size\": 18})\n",
    "ax.set_xlabel(\"GC Content\")\n",
    "ax.axhline(50.0, linestyle='--', color='black', lw=2.5, zorder=2.0)\n",
    "ax.set_ylabel(\"IR Occurrences (%)\")\n",
    "ax.xaxis.label.set_size(20)\n",
    "ax.yaxis.label.set_size(20)\n",
    "fig.savefig(f\"{dest}/IR_occurrences_perc_vs_arm_gc_content.png\", bbox_inches='tight')"
   ]
  },
  {
   "cell_type": "markdown",
   "id": "758cec25-78ba-44c2-bf0c-bf762a5e81bd",
   "metadata": {},
   "source": [
    "### IR Density vs Thermo Class"
   ]
  },
  {
   "cell_type": "code",
   "execution_count": null,
   "id": "17e5e6f4-c87e-49f6-af60-ea323a9e74b4",
   "metadata": {},
   "outputs": [],
   "source": [
    "empty_accessions_df = pl.DataFrame({\"#assembly_accession\": list(empty_accessions)})\\\n",
    "                    .join(\n",
    "                            tempura_DB_merged.select([\"#assembly_accession\", \"genome_size\", \"thermo_class\"]),\n",
    "                            on=\"#assembly_accession\",\n",
    "                    )\\\n",
    "                    .with_columns(\n",
    "                                pl.lit(0).alias(\"IR Counts\"),\n",
    "                                pl.lit(0).alias(\"IR Density\").cast(pl.Float64),\n",
    "                    )\n",
    "empty_accessions_df"
   ]
  },
  {
   "cell_type": "code",
   "execution_count": null,
   "id": "dc385389-0f12-4100-b502-af8a773b8e7b",
   "metadata": {},
   "outputs": [],
   "source": [
    "irp_df_tempura.shape"
   ]
  },
  {
   "cell_type": "code",
   "execution_count": null,
   "id": "7e3f8065-0141-410a-a07e-f481393b6d6c",
   "metadata": {},
   "outputs": [],
   "source": [
    "irp_df_tempura_grped = irp_df_tempura.group_by(\"#assembly_accession\")\\\n",
    "                .agg(\n",
    "                    pl.col(\"genome_size\").first(),\n",
    "                     pl.col(\"thermo_class\").first(),\n",
    "                    pl.col(\"start\").count().alias(\"IR Counts\").cast(pl.Int32),\n",
    "                   )\\\n",
    "            .with_columns(\n",
    "                        (pl.col(\"IR Counts\") * 1e6 / pl.col(\"genome_size\")).alias(\"IR Density\")\n",
    "        )\n",
    "\n",
    "irp_df_tempura_grped = pl.concat([irp_df_tempura_grped, empty_accessions_df])\n",
    "irp_df_tempura_grped"
   ]
  },
  {
   "cell_type": "markdown",
   "id": "8de3010d-af5d-446f-a8d3-04bdf73be1c8",
   "metadata": {},
   "source": [
    "### Arm GC Enrichment vs Thermo Class"
   ]
  },
  {
   "cell_type": "code",
   "execution_count": null,
   "id": "0c670c9b-f98e-4212-8778-fdec1edbc62b",
   "metadata": {},
   "outputs": [],
   "source": [
    "total_gc_content = irp_df_tempura.with_columns(\n",
    "                                    pl.col(\"sequenceOfArm\")\n",
    "                                    .map_elements(lambda seq: seq.count(\"g\") + seq.count(\"c\"), return_dtype=int)\n",
    "                        .alias(\"gc_arm\")\n",
    ")\\\n",
    "        .group_by(\"#assembly_accession\", maintain_order=True)\\\n",
    "        .agg(\n",
    "             pl.col(\"gc_arm\").sum(),\n",
    "             pl.col(\"armLength\").sum(),\n",
    "             pl.col(\"gc_percent\").first(),\n",
    "             pl.col(\"genome_size\").first(),\n",
    "             pl.col(\"family\").first(),\n",
    "             pl.col(\"order\").first(),\n",
    "             pl.col(\"Topt_ave\").first(),\n",
    "             pl.col(\"superkingdom\").first(),\n",
    "             pl.col(\"phylum\").first(),\n",
    "             pl.col(\"armLength\").max().alias(\"maximum_arm\"),\n",
    "             pl.col(\"armLength\").mean().alias(\"avg_arm_size\")\n",
    "            )\\\n",
    "        .with_columns(\n",
    "                    (pl.col(\"gc_arm\") / pl.col(\"armLength\")).alias(\"gc_arm_perc\"),\n",
    "                    pl.col(\"gc_percent\") / 1e2,\n",
    "                    pl.col(\"Topt_ave\").map_elements(classify, return_dtype=str).alias(\"thermo_class\"),\n",
    "        )\\\n",
    "        .with_columns(\n",
    "                   ( pl.col(\"gc_arm_perc\") / pl.col(\"gc_percent\") ).alias(\"hairpin_gc_enrichment\"),\n",
    "        )\n",
    "total_gc_content"
   ]
  },
  {
   "cell_type": "code",
   "execution_count": null,
   "id": "b4661d56-788d-49ca-80e2-fe4b3877fa1c",
   "metadata": {},
   "outputs": [],
   "source": [
    "from scipy.stats import f_oneway, kruskal\n",
    "\n",
    "thermo_classes = list(total_gc_content.unique(\"thermo_class\")[\"thermo_class\"])\n",
    "print(f\"Total Temperature Classes from Tempura DB: {len(thermo_classes)}.\")\n",
    "\n",
    "samples_thermo_anova = []\n",
    "for thermo_class in thermo_classes:\n",
    "    print(thermo_class)\n",
    "    gc_enrichment = list(total_gc_content.filter(pl.col(\"thermo_class\") == thermo_class)[\"hairpin_gc_enrichment\"])\n",
    "    samples_thermo_anova.append(gc_enrichment)\n",
    "    \n",
    "print(f\"Total Temperature Classes for ANOVA: {len(samples_thermo_anova)}.\")\n",
    "\n",
    "anova = f_oneway(*samples_thermo_anova, nan_policy=\"raise\")\n",
    "print(f\"One Way ANOVA comparison of Hairpin IR Arm GC-Enrichment across Temperature Classes:\\n{anova}\")\n",
    "\n",
    "kruskal_test = kruskal(*samples_thermo_anova, nan_policy=\"raise\")\n",
    "print(f\"KRUSAL comparison of Hairpin IR Arm GC-Enrichment across Temperature Classes:\\n{kruskal_test}.\")"
   ]
  },
  {
   "cell_type": "code",
   "execution_count": null,
   "id": "baca8797-f5b2-4379-9800-186bd3f490d5",
   "metadata": {},
   "outputs": [],
   "source": [
    "f_oneway(*samples_thermo_anova, nan_policy=\"raise\"), kruskal(*samples_thermo_anova, nan_policy=\"raise\")"
   ]
  },
  {
   "cell_type": "code",
   "execution_count": null,
   "id": "266d1549-54b5-4e1b-b9ca-2afa145a2a9f",
   "metadata": {},
   "outputs": [],
   "source": [
    "tempura_DB_merged.group_by(\"thermo_class\", maintain_order=True)\\\n",
    "            .agg(pl.col(\"phylum\").n_unique())"
   ]
  },
  {
   "cell_type": "code",
   "execution_count": null,
   "id": "2b38b5f3-3573-43b2-97a0-489beccf1497",
   "metadata": {},
   "outputs": [],
   "source": [
    "total_gc_content.group_by(\"thermo_class\", maintain_order=True)\\\n",
    "            .agg(\n",
    "                pl.col(\"hairpin_gc_enrichment\").mean().alias(\"gc_enrichment_mean\"),\n",
    "                pl.col(\"hairpin_gc_enrichment\").median().alias(\"gc_enrichment_median\")\n",
    "                )"
   ]
  },
  {
   "cell_type": "code",
   "execution_count": null,
   "id": "2149d0c8-587f-4ab7-8341-d52c4028010f",
   "metadata": {},
   "outputs": [],
   "source": [
    "import matplotlib.pyplot as plt\n",
    "import seaborn as sns\n",
    "from statannotations.Annotator import Annotator\n",
    "\n",
    "order = [\n",
    "      \"Psychrophiles\",\n",
    "      \"Mesophiles\",\n",
    "      \"Thermophiles\",\n",
    "      \"Hyperthermophiles\",\n",
    "]\n",
    "\n",
    "fig, ax = plt.subplots(nrows=1, ncols=1, figsize=(9, 5))\n",
    "sns.boxplot(data=total_gc_content.to_pandas(), \n",
    "            x=\"thermo_class\", \n",
    "            hue=\"thermo_class\",\n",
    "            y=\"hairpin_gc_enrichment\",\n",
    "            showfliers=False,\n",
    "            palette=palette,\n",
    "            order=order,\n",
    "            ax=ax)\n",
    "    \n",
    "pairs = [\n",
    "         (\"Psychrophiles\", \"Thermophiles\"), \n",
    "         (\"Psychrophiles\", \"Mesophiles\"),\n",
    "         (\"Psychrophiles\", \"Hyperthermophiles\"),\n",
    "         (\"Mesophiles\", \"Thermophiles\"),\n",
    "         (\"Mesophiles\", \"Hyperthermophiles\"),\n",
    "         (\"Thermophiles\", \"Hyperthermophiles\")\n",
    "]\n",
    "        \n",
    "annotator = Annotator(ax, \n",
    "                      pairs=pairs, \n",
    "                      data=total_gc_content.to_pandas(), \n",
    "                      x=\"thermo_class\",\n",
    "                      hue=\"thermo_class\", \n",
    "                      y=\"hairpin_gc_enrichment\", \n",
    "                      order=order,\n",
    "                      # hue_order=hue_order,\n",
    "                     )\n",
    "annotator.configure(test='t-test_ind', \n",
    "                    text_format='star',\n",
    "                    fontsize=10,\n",
    "                    comparisons_correction=\"fdr_bh\",\n",
    "                    loc='outside'\n",
    "                   )\n",
    "annotator.apply_and_annotate()\n",
    "ax.axhline(1.0, linestyle='--', color='black', lw=1.5, zorder=4)\n",
    "# ax.set_ylim(0.0, 0.8)\n",
    "ax.grid(lw=0.4, alpha=0.6, zorder=0)\n",
    "ax.tick_params(axis=\"x\", labelsize=19, rotation=10)\n",
    "ax.tick_params(axis=\"y\", labelsize=17)\n",
    "ax.yaxis.label.set_size(17)\n",
    "ax.set_ylabel(\"IR Arm GC Enrichment\")\n",
    "ax.set_xlabel('')\n",
    "fig.savefig(f\"{dest}/IR_GC_enrichment_vs_thermo_class.png\", bbox_inches='tight')"
   ]
  },
  {
   "cell_type": "markdown",
   "id": "3a011d11-35a9-437f-8b0a-dad708a63bf0",
   "metadata": {},
   "source": [
    "### Average Arm Length vs Thermo Class"
   ]
  },
  {
   "cell_type": "code",
   "execution_count": null,
   "id": "fda4d4be-e981-444e-98ab-3057a102bd48",
   "metadata": {},
   "outputs": [],
   "source": [
    "total_gc_content.group_by(\"thermo_class\", maintain_order=True)\\\n",
    "            .agg(\n",
    "                pl.col(\"avg_arm_size\").mean().alias(\"avg_avg_arm_size\"),\n",
    "                pl.col(\"avg_arm_size\").median().alias(\"median_avg_arm_size\")\n",
    "                )"
   ]
  },
  {
   "cell_type": "code",
   "execution_count": null,
   "id": "65a72cda-877a-45de-b8df-9abc6fbeab88",
   "metadata": {},
   "outputs": [],
   "source": [
    "import matplotlib.pyplot as plt\n",
    "import seaborn as sns\n",
    "from statannotations.Annotator import Annotator\n",
    "\n",
    "order = [\n",
    "      \"Psychrophiles\",\n",
    "      \"Mesophiles\",\n",
    "      \"Thermophiles\",\n",
    "      \"Hyperthermophiles\",\n",
    "]\n",
    "\n",
    "fig, ax = plt.subplots(nrows=1, ncols=1, figsize=(9, 5))\n",
    "sns.boxplot(data=total_gc_content.to_pandas(), \n",
    "            x=\"thermo_class\", \n",
    "            hue=\"thermo_class\",\n",
    "            y=\"avg_arm_size\",\n",
    "            showfliers=False,\n",
    "            palette=palette,\n",
    "            order=order,\n",
    "            ax=ax)\n",
    "    \n",
    "pairs = [\n",
    "         (\"Psychrophiles\", \"Thermophiles\"), \n",
    "         (\"Psychrophiles\", \"Mesophiles\"),\n",
    "         (\"Psychrophiles\", \"Hyperthermophiles\"),\n",
    "         (\"Mesophiles\", \"Thermophiles\"),\n",
    "         (\"Mesophiles\", \"Hyperthermophiles\"),\n",
    "         (\"Thermophiles\", \"Hyperthermophiles\")\n",
    "]\n",
    "        \n",
    "annotator = Annotator(ax, \n",
    "                      pairs=pairs, \n",
    "                      data=total_gc_content.to_pandas(), \n",
    "                      x=\"thermo_class\",\n",
    "                      hue=\"thermo_class\", \n",
    "                      y=\"avg_arm_size\", \n",
    "                      order=order,\n",
    "                      # hue_order=hue_order,\n",
    "                     )\n",
    "annotator.configure(test='t-test_ind', \n",
    "                    text_format='star',\n",
    "                    fontsize=10,\n",
    "                    line_offset=0.0,\n",
    "                    comparisons_correction=\"fdr_bh\",\n",
    "                    loc='outside')\n",
    "annotator.apply_and_annotate()\n",
    "ax.axhline(1.0, linestyle='--', color='black', lw=1.5, zorder=4)\n",
    "# ax.set_ylim(0.0, 0.8)\n",
    "ax.grid(lw=0.4, alpha=0.6, zorder=0)\n",
    "ax.tick_params(axis=\"x\", labelsize=19, rotation=10)\n",
    "ax.tick_params(axis=\"y\", labelsize=17)\n",
    "ax.yaxis.label.set_size(17)\n",
    "ax.set_ylabel(\"IR Arm Length\")\n",
    "ax.set_xlabel('')\n",
    "fig.savefig(f\"{dest}/IR_average_arm_length_vs_thermo_class.png\", bbox_inches='tight')"
   ]
  }
 ],
 "metadata": {
  "kernelspec": {
   "display_name": "Python 3 (ipykernel)",
   "language": "python",
   "name": "python3"
  },
  "language_info": {
   "codemirror_mode": {
    "name": "ipython",
    "version": 3
   },
   "file_extension": ".py",
   "mimetype": "text/x-python",
   "name": "python",
   "nbconvert_exporter": "python",
   "pygments_lexer": "ipython3",
   "version": "3.11.4"
  }
 },
 "nbformat": 4,
 "nbformat_minor": 5
}
